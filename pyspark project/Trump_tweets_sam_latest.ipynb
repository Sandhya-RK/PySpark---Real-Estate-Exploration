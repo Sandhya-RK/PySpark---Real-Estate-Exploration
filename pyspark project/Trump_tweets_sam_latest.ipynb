{
 "cells": [
  {
   "cell_type": "code",
   "execution_count": 3,
   "metadata": {},
   "outputs": [],
   "source": [
    "import pyspark\n",
    "from datetime import datetime\n",
    "import re\n",
    "import matplotlib.pyplot as plt\n",
    "#from wordcloud import WordCloud, ImageColorGenerator\n",
    "import numpy as np\n",
    "from PIL import Image\n",
    "#from langdetect import detect, detect_langs, DetectorFactory\n",
    "import pandas as pd\n",
    "\n",
    "from collections import OrderedDict\n",
    "from bokeh.plotting import figure, output_file, show, output_notebook\n"
   ]
  },
  {
   "cell_type": "markdown",
   "metadata": {},
   "source": [
    "**<font size=5> Introduction</font>**<br>\n",
    "The objective of this notebook is to **<u>analyze tweets from Donald Trump since 2015</u>**. <br>\n",
    "Several aspects are analysed: time pattern, sentiment analysis (positive/negative words), languages used<br>\n",
    " **<font color= green>Major findings</font>** from analysing the dataset are in bold green font hereafter <br>\n"
   ]
  },
  {
   "cell_type": "code",
   "execution_count": 4,
   "metadata": {},
   "outputs": [],
   "source": [
    "sc = pyspark.SparkContext(appName=\"Spark RDD Introduction Exercises\")"
   ]
  },
  {
   "cell_type": "code",
   "execution_count": 5,
   "metadata": {},
   "outputs": [
    {
     "data": {
      "text/plain": [
       "['White House news conference today at 5:30 P.M. Eastern. Thank you!,04-15-2020 20:49:31',\n",
       " 'We are having very productive calls with the leaders of every sector of the economy who are all-in on getting America back to work and soon. More to come! #MAGA,04-15-2020 19:02:47',\n",
       " 'My condolences to the Steinbrenner family and the entire @Yankees Organization on the passing of Hank Steinbrenner. He was a friend and will be missed greatly by all! https://t.co/nHsO7Wy0oM,04-15-2020 15:48:05',\n",
       " '#ThanksForDelivering @UPS! https://t.co/4Sis7Tme17,04-15-2020 15:39:58']"
      ]
     },
     "execution_count": 5,
     "metadata": {},
     "output_type": "execute_result"
    }
   ],
   "source": [
    "rdd_tweets = sc.textFile('trump_tweets_text_date.txt')\n",
    "\n",
    "# cache this RDD since it's huge and will be used a lot\n",
    "rdd_tweets.cache()\n",
    "\n",
    "# print a sample of 4 lines of rdd_tweets\n",
    "rdd_tweets.take(4)"
   ]
  },
  {
   "cell_type": "markdown",
   "metadata": {},
   "source": [
    "# compute some basic KPIs"
   ]
  },
  {
   "cell_type": "markdown",
   "metadata": {},
   "source": [
    "**<font color= green> count total number of tweets </font>**"
   ]
  },
  {
   "cell_type": "code",
   "execution_count": 6,
   "metadata": {},
   "outputs": [
    {
     "name": "stdout",
     "output_type": "stream",
     "text": [
      "there are 28972 tweets\n"
     ]
    }
   ],
   "source": [
    "N_tweets = rdd_tweets.count()\n",
    "print(\"there are\", N_tweets, \"tweets\")"
   ]
  },
  {
   "cell_type": "markdown",
   "metadata": {},
   "source": [
    "**<font color= green> count number of retweets </font>**"
   ]
  },
  {
   "cell_type": "code",
   "execution_count": 7,
   "metadata": {},
   "outputs": [
    {
     "name": "stdout",
     "output_type": "stream",
     "text": [
      "there are  5771  retweets. This represents  19.9 % of all tweets\n"
     ]
    }
   ],
   "source": [
    "N_retweet = rdd_tweets.filter(lambda x: x[0:2] == 'RT').count()\n",
    "print(\"there are \", N_retweet, \" retweets. This represents \", round(100*N_retweet/N_tweets,1), '% of all tweets')"
   ]
  },
  {
   "cell_type": "markdown",
   "metadata": {},
   "source": [
    "get all tweet dates"
   ]
  },
  {
   "cell_type": "code",
   "execution_count": 8,
   "metadata": {},
   "outputs": [],
   "source": [
    "# dates are always the last 19 characters with format mm-dd-YYYY hh:mm:ss \n",
    "rdd_dates_str = rdd_tweets.map(lambda x : x[-19:])"
   ]
  },
  {
   "cell_type": "markdown",
   "metadata": {},
   "source": [
    "**<font color= green> get the year and see the number of tweets every year </font>**"
   ]
  },
  {
   "cell_type": "code",
   "execution_count": 9,
   "metadata": {},
   "outputs": [],
   "source": [
    "rdd_year = rdd_dates_str.map(lambda x : (x[6:10],1))\\\n",
    "                        .reduceByKey(lambda a,b: a+b)\\\n",
    "                        .sortBy(lambda tuple: tuple[0], ascending=True)"
   ]
  },
  {
   "cell_type": "code",
   "execution_count": 10,
   "metadata": {},
   "outputs": [
    {
     "name": "stdout",
     "output_type": "stream",
     "text": [
      "There are 6 tweets in 2014\n",
      "There are 7536 tweets in 2015\n",
      "There are 4225 tweets in 2016\n",
      "There are 2602 tweets in 2017\n",
      "There are 3568 tweets in 2018\n",
      "There are 7818 tweets in 2019\n",
      "There are 3217 tweets in 2020\n"
     ]
    }
   ],
   "source": [
    "# display tweet count per year\n",
    "for val in rdd_year.collect():\n",
    "    print(\"There are\", val[1], \"tweets in\", val[0])\n"
   ]
  },
  {
   "cell_type": "markdown",
   "metadata": {},
   "source": [
    "**<font color= green> we see that 2015 and 2019 get much more tweets. <br>\n",
    "2014 is only 1 day  <br>\n",
    "2020 is still on-going <br>\n",
    "2015 Trump was not president so could tqeet out-of-control <br>\n",
    "2019 is probably driven by the impeachment <br> </font>**\n"
   ]
  },
  {
   "cell_type": "markdown",
   "metadata": {},
   "source": [
    "# plot tweet count per year per month"
   ]
  },
  {
   "cell_type": "code",
   "execution_count": 11,
   "metadata": {},
   "outputs": [],
   "source": [
    "# get month and year, create tuple and count\n",
    "rdd_month_year = rdd_dates_str.map(lambda x : ( (x[0:2] , x[6:10]) , 1))\\\n",
    "                        .reduceByKey(lambda a,b: a+b)\\\n",
    "                        .sortBy(lambda tuple: tuple[0], ascending=True)"
   ]
  },
  {
   "cell_type": "code",
   "execution_count": 12,
   "metadata": {},
   "outputs": [],
   "source": [
    "# remove 2014 and 2020 since these are incomplete\n",
    "rdd_month_year_filter=rdd_month_year.filter(lambda x: (x[0][1] in ['2015','2016','2017','2018','2019']))\\\n",
    "                    .sortBy(lambda tuple: tuple[0][1], ascending=True)"
   ]
  },
  {
   "cell_type": "code",
   "execution_count": 13,
   "metadata": {},
   "outputs": [],
   "source": [
    "# format data to be \"dataframe friendly\" \n",
    "rdd_month_year_filter_list = rdd_month_year_filter.collect()\n",
    "rdd_month_year_list = []\n",
    "for value in rdd_month_year_filter_list:\n",
    "    rdd_month_year_list.append(value[1])\n",
    "rdd_month_year_list\n",
    "\n",
    "data_np=np.reshape(np.asarray(rdd_month_year_list), (-1,12))\n"
   ]
  },
  {
   "cell_type": "code",
   "execution_count": 14,
   "metadata": {},
   "outputs": [],
   "source": [
    "# manually put month in a list\n",
    "months=['Jan','Feb','Mar','Apr','May','Jun','Jul','Aug','Sep','Oct','Nov','Dec']\n",
    "# group are not relevant in our case, we just use it to get an uniform color for the all months that stands out\n",
    "wedge_group=['A','A','A','A','A','A','A','A','A','A','A','A']"
   ]
  },
  {
   "cell_type": "code",
   "execution_count": 15,
   "metadata": {},
   "outputs": [
    {
     "data": {
      "text/html": [
       "<div>\n",
       "<style scoped>\n",
       "    .dataframe tbody tr th:only-of-type {\n",
       "        vertical-align: middle;\n",
       "    }\n",
       "\n",
       "    .dataframe tbody tr th {\n",
       "        vertical-align: top;\n",
       "    }\n",
       "\n",
       "    .dataframe thead th {\n",
       "        text-align: right;\n",
       "    }\n",
       "</style>\n",
       "<table border=\"1\" class=\"dataframe\">\n",
       "  <thead>\n",
       "    <tr style=\"text-align: right;\">\n",
       "      <th></th>\n",
       "      <th>months</th>\n",
       "      <th>year15</th>\n",
       "      <th>year16</th>\n",
       "      <th>year17</th>\n",
       "      <th>year18</th>\n",
       "      <th>year19</th>\n",
       "      <th>group</th>\n",
       "    </tr>\n",
       "  </thead>\n",
       "  <tbody>\n",
       "    <tr>\n",
       "      <th>0</th>\n",
       "      <td>Jan</td>\n",
       "      <td>1119</td>\n",
       "      <td>492</td>\n",
       "      <td>214</td>\n",
       "      <td>205</td>\n",
       "      <td>369</td>\n",
       "      <td>A</td>\n",
       "    </tr>\n",
       "    <tr>\n",
       "      <th>1</th>\n",
       "      <td>Feb</td>\n",
       "      <td>468</td>\n",
       "      <td>494</td>\n",
       "      <td>154</td>\n",
       "      <td>175</td>\n",
       "      <td>249</td>\n",
       "      <td>A</td>\n",
       "    </tr>\n",
       "    <tr>\n",
       "      <th>2</th>\n",
       "      <td>Mar</td>\n",
       "      <td>404</td>\n",
       "      <td>441</td>\n",
       "      <td>147</td>\n",
       "      <td>171</td>\n",
       "      <td>405</td>\n",
       "      <td>A</td>\n",
       "    </tr>\n",
       "    <tr>\n",
       "      <th>3</th>\n",
       "      <td>Apr</td>\n",
       "      <td>798</td>\n",
       "      <td>284</td>\n",
       "      <td>152</td>\n",
       "      <td>257</td>\n",
       "      <td>431</td>\n",
       "      <td>A</td>\n",
       "    </tr>\n",
       "    <tr>\n",
       "      <th>4</th>\n",
       "      <td>May</td>\n",
       "      <td>707</td>\n",
       "      <td>351</td>\n",
       "      <td>155</td>\n",
       "      <td>259</td>\n",
       "      <td>692</td>\n",
       "      <td>A</td>\n",
       "    </tr>\n",
       "    <tr>\n",
       "      <th>5</th>\n",
       "      <td>Jun</td>\n",
       "      <td>529</td>\n",
       "      <td>303</td>\n",
       "      <td>212</td>\n",
       "      <td>386</td>\n",
       "      <td>487</td>\n",
       "      <td>A</td>\n",
       "    </tr>\n",
       "    <tr>\n",
       "      <th>6</th>\n",
       "      <td>Jul</td>\n",
       "      <td>790</td>\n",
       "      <td>378</td>\n",
       "      <td>245</td>\n",
       "      <td>336</td>\n",
       "      <td>692</td>\n",
       "      <td>A</td>\n",
       "    </tr>\n",
       "    <tr>\n",
       "      <th>7</th>\n",
       "      <td>Aug</td>\n",
       "      <td>355</td>\n",
       "      <td>325</td>\n",
       "      <td>267</td>\n",
       "      <td>380</td>\n",
       "      <td>690</td>\n",
       "      <td>A</td>\n",
       "    </tr>\n",
       "    <tr>\n",
       "      <th>8</th>\n",
       "      <td>Sep</td>\n",
       "      <td>409</td>\n",
       "      <td>296</td>\n",
       "      <td>306</td>\n",
       "      <td>383</td>\n",
       "      <td>797</td>\n",
       "      <td>A</td>\n",
       "    </tr>\n",
       "    <tr>\n",
       "      <th>9</th>\n",
       "      <td>Oct</td>\n",
       "      <td>790</td>\n",
       "      <td>530</td>\n",
       "      <td>290</td>\n",
       "      <td>384</td>\n",
       "      <td>1018</td>\n",
       "      <td>A</td>\n",
       "    </tr>\n",
       "    <tr>\n",
       "      <th>10</th>\n",
       "      <td>Nov</td>\n",
       "      <td>576</td>\n",
       "      <td>193</td>\n",
       "      <td>261</td>\n",
       "      <td>338</td>\n",
       "      <td>862</td>\n",
       "      <td>A</td>\n",
       "    </tr>\n",
       "    <tr>\n",
       "      <th>11</th>\n",
       "      <td>Dec</td>\n",
       "      <td>591</td>\n",
       "      <td>138</td>\n",
       "      <td>199</td>\n",
       "      <td>294</td>\n",
       "      <td>1126</td>\n",
       "      <td>A</td>\n",
       "    </tr>\n",
       "  </tbody>\n",
       "</table>\n",
       "</div>"
      ],
      "text/plain": [
       "   months  year15  year16  year17  year18  year19 group\n",
       "0     Jan    1119     492     214     205     369     A\n",
       "1     Feb     468     494     154     175     249     A\n",
       "2     Mar     404     441     147     171     405     A\n",
       "3     Apr     798     284     152     257     431     A\n",
       "4     May     707     351     155     259     692     A\n",
       "5     Jun     529     303     212     386     487     A\n",
       "6     Jul     790     378     245     336     692     A\n",
       "7     Aug     355     325     267     380     690     A\n",
       "8     Sep     409     296     306     383     797     A\n",
       "9     Oct     790     530     290     384    1018     A\n",
       "10    Nov     576     193     261     338     862     A\n",
       "11    Dec     591     138     199     294    1126     A"
      ]
     },
     "execution_count": 15,
     "metadata": {},
     "output_type": "execute_result"
    }
   ],
   "source": [
    "# create data frame for plotting\n",
    "df = pd.DataFrame({'months' : months,\\\n",
    "                   'year15' : data_np[0,:],\\\n",
    "                   'year16' : data_np[1,:],\\\n",
    "                   'year17' : data_np[2,:],\\\n",
    "                   'year18' : data_np[3,:],\\\n",
    "                   'year19' : data_np[4,:],\\\n",
    "                   'group' : wedge_group})\n",
    "df"
   ]
  },
  {
   "cell_type": "code",
   "execution_count": 16,
   "metadata": {},
   "outputs": [],
   "source": [
    "# define color settings for the plot\n",
    "# define bar colors, 1 bar per year\n",
    "year_color = OrderedDict([\n",
    "    (\"year15\", \"#0d3362\"),\n",
    "    (\"year16\", \"#c64737\"),\n",
    "    (\"year17\", \"black\"),\n",
    "    (\"year18\", \"darkgreen\"),\n",
    "    (\"year19\", \"purple\"),\n",
    "])\n",
    "\n",
    "# define wegde colors\n",
    "wedge_color = OrderedDict([\n",
    "    (\"A\", \"white\"),\n",
    "    (\"B\", \"mocassin\"),\n",
    "    (\"C\", \"lightgrey\"),\n",
    "    (\"D\", \"mistyrose\"),\n",
    "])\n",
    " "
   ]
  },
  {
   "cell_type": "code",
   "execution_count": 18,
   "metadata": {},
   "outputs": [],
   "source": [
    "# radial bar plot\n",
    "plot_all_intermediate = 0\n",
    "# this function is a wrapper to plot or not intermediate steps. Set plot_all_intermediate=1 for debug, plot_all_intermediate=0 otherwise\n",
    "def plot_intermediate(p):\n",
    "    if plot_all_intermediate == 1:\n",
    "        show(p) \n",
    "\n",
    "# this function converts value to specific unit\n",
    "def scale_value(val,outer_radius,inner_radius,max_val,min_val):\n",
    "    # scale factor transforms from value unit to plot units\n",
    "    scale_factor = (outer_radius - inner_radius) / (max_val - min_val)    \n",
    "    return inner_radius + scale_factor * val\n",
    "\n",
    "def plot_radial(df, year_color, wedge_color):\n",
    "\n",
    "    N_year = len(df.columns) - 2 \n",
    "    \n",
    "    # define plot size in pixels\n",
    "    plt_width  = 800\n",
    "    plt_height = 800\n",
    "\n",
    "    # define inner and outer radius size in xy plot unit\n",
    "    inner_radius = 90\n",
    "    outer_radius = 300 - 10\n",
    "    \n",
    "    # define min and max value on the wedge\n",
    "    min_val = 0\n",
    "    max_val = 1200    \n",
    "    \n",
    "    # big angle is the angle of a wedge. Used to place wedges on the full circle\n",
    "    wed_angle = 2.0 * np.pi / (len(df) + 1)\n",
    "    # small angle is the angle inside a wedge. Used to place bars inside a wedge. 7 is because 3 bars are used 7=3 bars + (3+1) empty spaces\n",
    "    inner_wed_angle = wed_angle / (2*N_year+1)\n",
    "    \n",
    "    # declare the figure and set figure parameter\n",
    "    p = figure(plot_width=plt_width, plot_height=plt_height,\n",
    "        x_axis_type=None, y_axis_type=None,\n",
    "        x_range=(-420, 420), y_range=(-420, 420),\n",
    "        min_border=0, outline_line_color=\"black\",\n",
    "        background_fill_color=\"#f0e1d2\")   \n",
    " \n",
    "    # avoid any xy grid since it's not a cartesian plot but radial homemade grid\n",
    "    p.xgrid.grid_line_color = None\n",
    "    p.ygrid.grid_line_color = None   \n",
    "\n",
    "    # angles for all annular wedges\n",
    "    angles = np.pi/2 - wed_angle/2 - df.index.to_series()*wed_angle\n",
    "    # set colors for all bars\n",
    "    colors = [wedge_color[g] for g in df.group]    \n",
    "    \n",
    "    # plot all wedges according to their centers (all (0,0)), inner and outer radius, start and end angles, colors\n",
    "    p.annular_wedge(\n",
    "        0, 0, inner_radius, outer_radius, -wed_angle+angles, angles, color=colors,\n",
    "    )\n",
    "    plot_intermediate(p)\n",
    "    \n",
    "    # plot each wedge\n",
    "    p.annular_wedge(0, 0, inner_radius, scale_value(df.year15,outer_radius,inner_radius,max_val,min_val),\n",
    "                    -wed_angle+angles+9*inner_wed_angle, -wed_angle+angles+10*inner_wed_angle,\n",
    "                    color=year_color['year15'])\n",
    "    p.annular_wedge(0, 0, inner_radius, scale_value(df.year16,outer_radius,inner_radius,max_val,min_val),\n",
    "                    -wed_angle+angles+7*inner_wed_angle, -wed_angle+angles+8*inner_wed_angle,\n",
    "                    color=year_color['year16'])\n",
    "    p.annular_wedge(0, 0, inner_radius, scale_value(df.year17,outer_radius,inner_radius,max_val,min_val),\n",
    "                    -wed_angle+angles+5*inner_wed_angle, -wed_angle+angles+6*inner_wed_angle,\n",
    "                    color=year_color['year17'])\n",
    "    p.annular_wedge(0, 0, inner_radius, scale_value(df.year18,outer_radius,inner_radius,max_val,min_val),\n",
    "                    -wed_angle+angles+3*inner_wed_angle, -wed_angle+angles+4*inner_wed_angle,\n",
    "                    color=year_color['year18'])\n",
    "    p.annular_wedge(0, 0, inner_radius, scale_value(df.year19,outer_radius,inner_radius,max_val,min_val),\n",
    "                    -wed_angle+angles+1*inner_wed_angle, -wed_angle+angles+2*inner_wed_angle,\n",
    "                    color=year_color['year19'])\n",
    "    plot_intermediate(p)    \n",
    "    \n",
    "    \n",
    "    # set the radial grid : circular axes and labels\n",
    "    # define the grid values, round to the number of decimals defined\n",
    "    label_step = 200\n",
    "    labels = np.around(np.arange(min_val, max_val+label_step/2, label_step), decimals=0)\n",
    "    # compute the radius of each grid label in specific unit \n",
    "    radii = scale_value(labels,outer_radius,inner_radius,max_val,min_val)\n",
    "    # draw grid as circle\n",
    "    p.circle(0, 0, radius=radii, fill_color=None, line_color=\"white\")\n",
    "    # add grid text\n",
    "    p.text(0, radii, [str(r) for r in labels],\n",
    "           text_font_size=\"11px\", text_align=\"center\", text_baseline=\"middle\")\n",
    "    plot_intermediate(p)\n",
    "    \n",
    "   # plot radial seperations between each wedge. extend by 10 from inner and outer radius\n",
    "    p.annular_wedge(0, 0, inner_radius-10, outer_radius+10,\n",
    "                    -wed_angle+angles, -wed_angle+angles, color=\"black\")\n",
    "    plot_intermediate(p)\n",
    "\n",
    "    # wedges labels, offset put the label outside the circle for readibility, this value could need to be tweaked\n",
    "    offset = 20\n",
    "    xr = (outer_radius+offset)*np.cos(np.array(-wed_angle/2 + angles)) # center label on the outer radius at the middle of the wedge\n",
    "    yr = (outer_radius+offset)*np.sin(np.array(-wed_angle/2 + angles))\n",
    "    label_angle=np.array(-wed_angle/2+angles)             # put label in the middle of the wedge angle\n",
    "    label_angle[label_angle < -np.pi/2] += np.pi          # flip lef side labels for easier reading\n",
    "    p.text(xr, yr, df.months, angle=label_angle,\n",
    "           text_font_size=\"12px\", text_align=\"center\", text_baseline=\"middle\", text_font_style='bold')\n",
    "    plot_intermediate(p)\n",
    "\n",
    "    # add legends if needed\n",
    "    # OK, these hand drawn legends are pretty clunky, will be improved in future release\n",
    "    #p.circle([-40, -40], [-370, -390], color=list(gram_color.values()), radius=5)\n",
    "    #p.text([-30, -30], [-370, -390], text=[\"Gram-\" + gr for gr in gram_color.keys()],\n",
    "    #       text_font_size=\"9px\", text_align=\"left\", text_baseline=\"middle\")\n",
    "    #plot_intermediate(p)\n",
    "\n",
    "    # add bar legend\n",
    "    p.rect([-40, -40, -40, -40, -40], [36, 18, 0, -18, -36], width=30, height=13,\n",
    "           color=list(year_color.values()))\n",
    "    p.text([-15, -15, -15, -15, -15], [36, 18, 0, -18, -36], text=list(year_color),\n",
    "           text_font_size=\"12px\", text_align=\"left\", text_baseline=\"middle\")\n",
    "    plot_intermediate(p)\n",
    "    \n",
    "    # add title\n",
    "    p.title.text = \"Number of Tweets per month every year\"\n",
    "    p.title.align = \"center\"\n",
    "    p.title.text_color = \"black\"\n",
    "    p.title.text_font_size = \"25px\"\n",
    "    p.title.background_fill_color = \"white\"   \n",
    "    \n",
    "    plot_in_notebook = 1\n",
    "    # output file inside notebook\n",
    "    if plot_in_notebook== 1:\n",
    "        output_notebook()\n",
    "    \n",
    "    plot_in_html = 0\n",
    "    #save html file locally\n",
    "    if plot_in_html== 1:\n",
    "        output_file(\"radial_plot.html\", title=\"radial_plot.py example\")\n",
    "\n",
    "    # display plot\n",
    "    show(p)"
   ]
  },
  {
   "cell_type": "code",
   "execution_count": 19,
   "metadata": {},
   "outputs": [
    {
     "data": {
      "text/html": [
       "\n",
       "    <div class=\"bk-root\">\n",
       "        <a href=\"https://bokeh.org\" target=\"_blank\" class=\"bk-logo bk-logo-small bk-logo-notebook\"></a>\n",
       "        <span id=\"1088\">Loading BokehJS ...</span>\n",
       "    </div>"
      ]
     },
     "metadata": {},
     "output_type": "display_data"
    },
    {
     "data": {
      "application/javascript": [
       "\n",
       "(function(root) {\n",
       "  function now() {\n",
       "    return new Date();\n",
       "  }\n",
       "\n",
       "  var force = true;\n",
       "\n",
       "  if (typeof root._bokeh_onload_callbacks === \"undefined\" || force === true) {\n",
       "    root._bokeh_onload_callbacks = [];\n",
       "    root._bokeh_is_loading = undefined;\n",
       "  }\n",
       "\n",
       "  var JS_MIME_TYPE = 'application/javascript';\n",
       "  var HTML_MIME_TYPE = 'text/html';\n",
       "  var EXEC_MIME_TYPE = 'application/vnd.bokehjs_exec.v0+json';\n",
       "  var CLASS_NAME = 'output_bokeh rendered_html';\n",
       "\n",
       "  /**\n",
       "   * Render data to the DOM node\n",
       "   */\n",
       "  function render(props, node) {\n",
       "    var script = document.createElement(\"script\");\n",
       "    node.appendChild(script);\n",
       "  }\n",
       "\n",
       "  /**\n",
       "   * Handle when an output is cleared or removed\n",
       "   */\n",
       "  function handleClearOutput(event, handle) {\n",
       "    var cell = handle.cell;\n",
       "\n",
       "    var id = cell.output_area._bokeh_element_id;\n",
       "    var server_id = cell.output_area._bokeh_server_id;\n",
       "    // Clean up Bokeh references\n",
       "    if (id != null && id in Bokeh.index) {\n",
       "      Bokeh.index[id].model.document.clear();\n",
       "      delete Bokeh.index[id];\n",
       "    }\n",
       "\n",
       "    if (server_id !== undefined) {\n",
       "      // Clean up Bokeh references\n",
       "      var cmd = \"from bokeh.io.state import curstate; print(curstate().uuid_to_server['\" + server_id + \"'].get_sessions()[0].document.roots[0]._id)\";\n",
       "      cell.notebook.kernel.execute(cmd, {\n",
       "        iopub: {\n",
       "          output: function(msg) {\n",
       "            var id = msg.content.text.trim();\n",
       "            if (id in Bokeh.index) {\n",
       "              Bokeh.index[id].model.document.clear();\n",
       "              delete Bokeh.index[id];\n",
       "            }\n",
       "          }\n",
       "        }\n",
       "      });\n",
       "      // Destroy server and session\n",
       "      var cmd = \"import bokeh.io.notebook as ion; ion.destroy_server('\" + server_id + \"')\";\n",
       "      cell.notebook.kernel.execute(cmd);\n",
       "    }\n",
       "  }\n",
       "\n",
       "  /**\n",
       "   * Handle when a new output is added\n",
       "   */\n",
       "  function handleAddOutput(event, handle) {\n",
       "    var output_area = handle.output_area;\n",
       "    var output = handle.output;\n",
       "\n",
       "    // limit handleAddOutput to display_data with EXEC_MIME_TYPE content only\n",
       "    if ((output.output_type != \"display_data\") || (!output.data.hasOwnProperty(EXEC_MIME_TYPE))) {\n",
       "      return\n",
       "    }\n",
       "\n",
       "    var toinsert = output_area.element.find(\".\" + CLASS_NAME.split(' ')[0]);\n",
       "\n",
       "    if (output.metadata[EXEC_MIME_TYPE][\"id\"] !== undefined) {\n",
       "      toinsert[toinsert.length - 1].firstChild.textContent = output.data[JS_MIME_TYPE];\n",
       "      // store reference to embed id on output_area\n",
       "      output_area._bokeh_element_id = output.metadata[EXEC_MIME_TYPE][\"id\"];\n",
       "    }\n",
       "    if (output.metadata[EXEC_MIME_TYPE][\"server_id\"] !== undefined) {\n",
       "      var bk_div = document.createElement(\"div\");\n",
       "      bk_div.innerHTML = output.data[HTML_MIME_TYPE];\n",
       "      var script_attrs = bk_div.children[0].attributes;\n",
       "      for (var i = 0; i < script_attrs.length; i++) {\n",
       "        toinsert[toinsert.length - 1].firstChild.setAttribute(script_attrs[i].name, script_attrs[i].value);\n",
       "      }\n",
       "      // store reference to server id on output_area\n",
       "      output_area._bokeh_server_id = output.metadata[EXEC_MIME_TYPE][\"server_id\"];\n",
       "    }\n",
       "  }\n",
       "\n",
       "  function register_renderer(events, OutputArea) {\n",
       "\n",
       "    function append_mime(data, metadata, element) {\n",
       "      // create a DOM node to render to\n",
       "      var toinsert = this.create_output_subarea(\n",
       "        metadata,\n",
       "        CLASS_NAME,\n",
       "        EXEC_MIME_TYPE\n",
       "      );\n",
       "      this.keyboard_manager.register_events(toinsert);\n",
       "      // Render to node\n",
       "      var props = {data: data, metadata: metadata[EXEC_MIME_TYPE]};\n",
       "      render(props, toinsert[toinsert.length - 1]);\n",
       "      element.append(toinsert);\n",
       "      return toinsert\n",
       "    }\n",
       "\n",
       "    /* Handle when an output is cleared or removed */\n",
       "    events.on('clear_output.CodeCell', handleClearOutput);\n",
       "    events.on('delete.Cell', handleClearOutput);\n",
       "\n",
       "    /* Handle when a new output is added */\n",
       "    events.on('output_added.OutputArea', handleAddOutput);\n",
       "\n",
       "    /**\n",
       "     * Register the mime type and append_mime function with output_area\n",
       "     */\n",
       "    OutputArea.prototype.register_mime_type(EXEC_MIME_TYPE, append_mime, {\n",
       "      /* Is output safe? */\n",
       "      safe: true,\n",
       "      /* Index of renderer in `output_area.display_order` */\n",
       "      index: 0\n",
       "    });\n",
       "  }\n",
       "\n",
       "  // register the mime type if in Jupyter Notebook environment and previously unregistered\n",
       "  if (root.Jupyter !== undefined) {\n",
       "    var events = require('base/js/events');\n",
       "    var OutputArea = require('notebook/js/outputarea').OutputArea;\n",
       "\n",
       "    if (OutputArea.prototype.mime_types().indexOf(EXEC_MIME_TYPE) == -1) {\n",
       "      register_renderer(events, OutputArea);\n",
       "    }\n",
       "  }\n",
       "\n",
       "  \n",
       "  if (typeof (root._bokeh_timeout) === \"undefined\" || force === true) {\n",
       "    root._bokeh_timeout = Date.now() + 5000;\n",
       "    root._bokeh_failed_load = false;\n",
       "  }\n",
       "\n",
       "  var NB_LOAD_WARNING = {'data': {'text/html':\n",
       "     \"<div style='background-color: #fdd'>\\n\"+\n",
       "     \"<p>\\n\"+\n",
       "     \"BokehJS does not appear to have successfully loaded. If loading BokehJS from CDN, this \\n\"+\n",
       "     \"may be due to a slow or bad network connection. Possible fixes:\\n\"+\n",
       "     \"</p>\\n\"+\n",
       "     \"<ul>\\n\"+\n",
       "     \"<li>re-rerun `output_notebook()` to attempt to load from CDN again, or</li>\\n\"+\n",
       "     \"<li>use INLINE resources instead, as so:</li>\\n\"+\n",
       "     \"</ul>\\n\"+\n",
       "     \"<code>\\n\"+\n",
       "     \"from bokeh.resources import INLINE\\n\"+\n",
       "     \"output_notebook(resources=INLINE)\\n\"+\n",
       "     \"</code>\\n\"+\n",
       "     \"</div>\"}};\n",
       "\n",
       "  function display_loaded() {\n",
       "    var el = document.getElementById(\"1088\");\n",
       "    if (el != null) {\n",
       "      el.textContent = \"BokehJS is loading...\";\n",
       "    }\n",
       "    if (root.Bokeh !== undefined) {\n",
       "      if (el != null) {\n",
       "        el.textContent = \"BokehJS \" + root.Bokeh.version + \" successfully loaded.\";\n",
       "      }\n",
       "    } else if (Date.now() < root._bokeh_timeout) {\n",
       "      setTimeout(display_loaded, 100)\n",
       "    }\n",
       "  }\n",
       "\n",
       "\n",
       "  function run_callbacks() {\n",
       "    try {\n",
       "      root._bokeh_onload_callbacks.forEach(function(callback) {\n",
       "        if (callback != null)\n",
       "          callback();\n",
       "      });\n",
       "    } finally {\n",
       "      delete root._bokeh_onload_callbacks\n",
       "    }\n",
       "    console.debug(\"Bokeh: all callbacks have finished\");\n",
       "  }\n",
       "\n",
       "  function load_libs(css_urls, js_urls, callback) {\n",
       "    if (css_urls == null) css_urls = [];\n",
       "    if (js_urls == null) js_urls = [];\n",
       "\n",
       "    root._bokeh_onload_callbacks.push(callback);\n",
       "    if (root._bokeh_is_loading > 0) {\n",
       "      console.debug(\"Bokeh: BokehJS is being loaded, scheduling callback at\", now());\n",
       "      return null;\n",
       "    }\n",
       "    if (js_urls == null || js_urls.length === 0) {\n",
       "      run_callbacks();\n",
       "      return null;\n",
       "    }\n",
       "    console.debug(\"Bokeh: BokehJS not loaded, scheduling load and callback at\", now());\n",
       "    root._bokeh_is_loading = css_urls.length + js_urls.length;\n",
       "\n",
       "    function on_load() {\n",
       "      root._bokeh_is_loading--;\n",
       "      if (root._bokeh_is_loading === 0) {\n",
       "        console.debug(\"Bokeh: all BokehJS libraries/stylesheets loaded\");\n",
       "        run_callbacks()\n",
       "      }\n",
       "    }\n",
       "\n",
       "    function on_error() {\n",
       "      console.error(\"failed to load \" + url);\n",
       "    }\n",
       "\n",
       "    for (var i = 0; i < css_urls.length; i++) {\n",
       "      var url = css_urls[i];\n",
       "      const element = document.createElement(\"link\");\n",
       "      element.onload = on_load;\n",
       "      element.onerror = on_error;\n",
       "      element.rel = \"stylesheet\";\n",
       "      element.type = \"text/css\";\n",
       "      element.href = url;\n",
       "      console.debug(\"Bokeh: injecting link tag for BokehJS stylesheet: \", url);\n",
       "      document.body.appendChild(element);\n",
       "    }\n",
       "\n",
       "    for (var i = 0; i < js_urls.length; i++) {\n",
       "      var url = js_urls[i];\n",
       "      var element = document.createElement('script');\n",
       "      element.onload = on_load;\n",
       "      element.onerror = on_error;\n",
       "      element.async = false;\n",
       "      element.src = url;\n",
       "      console.debug(\"Bokeh: injecting script tag for BokehJS library: \", url);\n",
       "      document.head.appendChild(element);\n",
       "    }\n",
       "  };var element = document.getElementById(\"1088\");\n",
       "  if (element == null) {\n",
       "    console.error(\"Bokeh: ERROR: autoload.js configured with elementid '1088' but no matching script tag was found. \")\n",
       "    return false;\n",
       "  }\n",
       "\n",
       "  function inject_raw_css(css) {\n",
       "    const element = document.createElement(\"style\");\n",
       "    element.appendChild(document.createTextNode(css));\n",
       "    document.body.appendChild(element);\n",
       "  }\n",
       "\n",
       "  \n",
       "  var js_urls = [\"https://cdn.pydata.org/bokeh/release/bokeh-1.4.0.min.js\", \"https://cdn.pydata.org/bokeh/release/bokeh-widgets-1.4.0.min.js\", \"https://cdn.pydata.org/bokeh/release/bokeh-tables-1.4.0.min.js\", \"https://cdn.pydata.org/bokeh/release/bokeh-gl-1.4.0.min.js\"];\n",
       "  var css_urls = [];\n",
       "  \n",
       "\n",
       "  var inline_js = [\n",
       "    function(Bokeh) {\n",
       "      Bokeh.set_log_level(\"info\");\n",
       "    },\n",
       "    function(Bokeh) {\n",
       "    \n",
       "    \n",
       "    }\n",
       "  ];\n",
       "\n",
       "  function run_inline_js() {\n",
       "    \n",
       "    if (root.Bokeh !== undefined || force === true) {\n",
       "      \n",
       "    for (var i = 0; i < inline_js.length; i++) {\n",
       "      inline_js[i].call(root, root.Bokeh);\n",
       "    }\n",
       "    if (force === true) {\n",
       "        display_loaded();\n",
       "      }} else if (Date.now() < root._bokeh_timeout) {\n",
       "      setTimeout(run_inline_js, 100);\n",
       "    } else if (!root._bokeh_failed_load) {\n",
       "      console.log(\"Bokeh: BokehJS failed to load within specified timeout.\");\n",
       "      root._bokeh_failed_load = true;\n",
       "    } else if (force !== true) {\n",
       "      var cell = $(document.getElementById(\"1088\")).parents('.cell').data().cell;\n",
       "      cell.output_area.append_execute_result(NB_LOAD_WARNING)\n",
       "    }\n",
       "\n",
       "  }\n",
       "\n",
       "  if (root._bokeh_is_loading === 0) {\n",
       "    console.debug(\"Bokeh: BokehJS loaded, going straight to plotting\");\n",
       "    run_inline_js();\n",
       "  } else {\n",
       "    load_libs(css_urls, js_urls, function() {\n",
       "      console.debug(\"Bokeh: BokehJS plotting callback run at\", now());\n",
       "      run_inline_js();\n",
       "    });\n",
       "  }\n",
       "}(window));"
      ],
      "application/vnd.bokehjs_load.v0+json": "\n(function(root) {\n  function now() {\n    return new Date();\n  }\n\n  var force = true;\n\n  if (typeof root._bokeh_onload_callbacks === \"undefined\" || force === true) {\n    root._bokeh_onload_callbacks = [];\n    root._bokeh_is_loading = undefined;\n  }\n\n  \n\n  \n  if (typeof (root._bokeh_timeout) === \"undefined\" || force === true) {\n    root._bokeh_timeout = Date.now() + 5000;\n    root._bokeh_failed_load = false;\n  }\n\n  var NB_LOAD_WARNING = {'data': {'text/html':\n     \"<div style='background-color: #fdd'>\\n\"+\n     \"<p>\\n\"+\n     \"BokehJS does not appear to have successfully loaded. If loading BokehJS from CDN, this \\n\"+\n     \"may be due to a slow or bad network connection. Possible fixes:\\n\"+\n     \"</p>\\n\"+\n     \"<ul>\\n\"+\n     \"<li>re-rerun `output_notebook()` to attempt to load from CDN again, or</li>\\n\"+\n     \"<li>use INLINE resources instead, as so:</li>\\n\"+\n     \"</ul>\\n\"+\n     \"<code>\\n\"+\n     \"from bokeh.resources import INLINE\\n\"+\n     \"output_notebook(resources=INLINE)\\n\"+\n     \"</code>\\n\"+\n     \"</div>\"}};\n\n  function display_loaded() {\n    var el = document.getElementById(\"1088\");\n    if (el != null) {\n      el.textContent = \"BokehJS is loading...\";\n    }\n    if (root.Bokeh !== undefined) {\n      if (el != null) {\n        el.textContent = \"BokehJS \" + root.Bokeh.version + \" successfully loaded.\";\n      }\n    } else if (Date.now() < root._bokeh_timeout) {\n      setTimeout(display_loaded, 100)\n    }\n  }\n\n\n  function run_callbacks() {\n    try {\n      root._bokeh_onload_callbacks.forEach(function(callback) {\n        if (callback != null)\n          callback();\n      });\n    } finally {\n      delete root._bokeh_onload_callbacks\n    }\n    console.debug(\"Bokeh: all callbacks have finished\");\n  }\n\n  function load_libs(css_urls, js_urls, callback) {\n    if (css_urls == null) css_urls = [];\n    if (js_urls == null) js_urls = [];\n\n    root._bokeh_onload_callbacks.push(callback);\n    if (root._bokeh_is_loading > 0) {\n      console.debug(\"Bokeh: BokehJS is being loaded, scheduling callback at\", now());\n      return null;\n    }\n    if (js_urls == null || js_urls.length === 0) {\n      run_callbacks();\n      return null;\n    }\n    console.debug(\"Bokeh: BokehJS not loaded, scheduling load and callback at\", now());\n    root._bokeh_is_loading = css_urls.length + js_urls.length;\n\n    function on_load() {\n      root._bokeh_is_loading--;\n      if (root._bokeh_is_loading === 0) {\n        console.debug(\"Bokeh: all BokehJS libraries/stylesheets loaded\");\n        run_callbacks()\n      }\n    }\n\n    function on_error() {\n      console.error(\"failed to load \" + url);\n    }\n\n    for (var i = 0; i < css_urls.length; i++) {\n      var url = css_urls[i];\n      const element = document.createElement(\"link\");\n      element.onload = on_load;\n      element.onerror = on_error;\n      element.rel = \"stylesheet\";\n      element.type = \"text/css\";\n      element.href = url;\n      console.debug(\"Bokeh: injecting link tag for BokehJS stylesheet: \", url);\n      document.body.appendChild(element);\n    }\n\n    for (var i = 0; i < js_urls.length; i++) {\n      var url = js_urls[i];\n      var element = document.createElement('script');\n      element.onload = on_load;\n      element.onerror = on_error;\n      element.async = false;\n      element.src = url;\n      console.debug(\"Bokeh: injecting script tag for BokehJS library: \", url);\n      document.head.appendChild(element);\n    }\n  };var element = document.getElementById(\"1088\");\n  if (element == null) {\n    console.error(\"Bokeh: ERROR: autoload.js configured with elementid '1088' but no matching script tag was found. \")\n    return false;\n  }\n\n  function inject_raw_css(css) {\n    const element = document.createElement(\"style\");\n    element.appendChild(document.createTextNode(css));\n    document.body.appendChild(element);\n  }\n\n  \n  var js_urls = [\"https://cdn.pydata.org/bokeh/release/bokeh-1.4.0.min.js\", \"https://cdn.pydata.org/bokeh/release/bokeh-widgets-1.4.0.min.js\", \"https://cdn.pydata.org/bokeh/release/bokeh-tables-1.4.0.min.js\", \"https://cdn.pydata.org/bokeh/release/bokeh-gl-1.4.0.min.js\"];\n  var css_urls = [];\n  \n\n  var inline_js = [\n    function(Bokeh) {\n      Bokeh.set_log_level(\"info\");\n    },\n    function(Bokeh) {\n    \n    \n    }\n  ];\n\n  function run_inline_js() {\n    \n    if (root.Bokeh !== undefined || force === true) {\n      \n    for (var i = 0; i < inline_js.length; i++) {\n      inline_js[i].call(root, root.Bokeh);\n    }\n    if (force === true) {\n        display_loaded();\n      }} else if (Date.now() < root._bokeh_timeout) {\n      setTimeout(run_inline_js, 100);\n    } else if (!root._bokeh_failed_load) {\n      console.log(\"Bokeh: BokehJS failed to load within specified timeout.\");\n      root._bokeh_failed_load = true;\n    } else if (force !== true) {\n      var cell = $(document.getElementById(\"1088\")).parents('.cell').data().cell;\n      cell.output_area.append_execute_result(NB_LOAD_WARNING)\n    }\n\n  }\n\n  if (root._bokeh_is_loading === 0) {\n    console.debug(\"Bokeh: BokehJS loaded, going straight to plotting\");\n    run_inline_js();\n  } else {\n    load_libs(css_urls, js_urls, function() {\n      console.debug(\"Bokeh: BokehJS plotting callback run at\", now());\n      run_inline_js();\n    });\n  }\n}(window));"
     },
     "metadata": {},
     "output_type": "display_data"
    },
    {
     "data": {
      "text/html": [
       "\n",
       "\n",
       "\n",
       "\n",
       "\n",
       "\n",
       "  <div class=\"bk-root\" id=\"26070fb5-79d5-4320-aced-8147e30f8f65\" data-root-id=\"1001\"></div>\n"
      ]
     },
     "metadata": {},
     "output_type": "display_data"
    },
    {
     "data": {
      "application/javascript": [
       "(function(root) {\n",
       "  function embed_document(root) {\n",
       "    \n",
       "  var docs_json = {\"407abeee-dc57-43b3-8610-c25ef0a6d413\":{\"roots\":{\"references\":[{\"attributes\":{\"background_fill_color\":{\"value\":\"#f0e1d2\"},\"min_border\":0,\"outline_line_color\":{\"value\":\"black\"},\"plot_height\":800,\"plot_width\":800,\"renderers\":[{\"id\":\"1026\",\"type\":\"GlyphRenderer\"},{\"id\":\"1031\",\"type\":\"GlyphRenderer\"},{\"id\":\"1036\",\"type\":\"GlyphRenderer\"},{\"id\":\"1041\",\"type\":\"GlyphRenderer\"},{\"id\":\"1046\",\"type\":\"GlyphRenderer\"},{\"id\":\"1051\",\"type\":\"GlyphRenderer\"},{\"id\":\"1056\",\"type\":\"GlyphRenderer\"},{\"id\":\"1061\",\"type\":\"GlyphRenderer\"},{\"id\":\"1066\",\"type\":\"GlyphRenderer\"},{\"id\":\"1071\",\"type\":\"GlyphRenderer\"},{\"id\":\"1076\",\"type\":\"GlyphRenderer\"},{\"id\":\"1081\",\"type\":\"GlyphRenderer\"}],\"title\":{\"id\":\"1083\",\"type\":\"Title\"},\"toolbar\":{\"id\":\"1016\",\"type\":\"Toolbar\"},\"x_range\":{\"id\":\"1002\",\"type\":\"Range1d\"},\"x_scale\":{\"id\":\"1006\",\"type\":\"LinearScale\"},\"y_range\":{\"id\":\"1004\",\"type\":\"Range1d\"},\"y_scale\":{\"id\":\"1008\",\"type\":\"LinearScale\"}},\"id\":\"1001\",\"subtype\":\"Figure\",\"type\":\"Plot\"},{\"attributes\":{\"align\":\"center\",\"background_fill_color\":{\"value\":\"white\"},\"text\":\"Number of Tweets per month every year\",\"text_color\":{\"value\":\"black\"},\"text_font_size\":{\"value\":\"25px\"}},\"id\":\"1083\",\"type\":\"Title\"},{\"attributes\":{},\"id\":\"1093\",\"type\":\"UnionRenderers\"},{\"attributes\":{\"bottom_units\":\"screen\",\"fill_alpha\":{\"value\":0.5},\"fill_color\":{\"value\":\"lightgrey\"},\"left_units\":\"screen\",\"level\":\"overlay\",\"line_alpha\":{\"value\":1.0},\"line_color\":{\"value\":\"black\"},\"line_dash\":[4,4],\"line_width\":{\"value\":2},\"render_mode\":\"css\",\"right_units\":\"screen\",\"top_units\":\"screen\"},\"id\":\"1091\",\"type\":\"BoxAnnotation\"},{\"attributes\":{},\"id\":\"1092\",\"type\":\"Selection\"},{\"attributes\":{},\"id\":\"1094\",\"type\":\"Selection\"},{\"attributes\":{},\"id\":\"1095\",\"type\":\"UnionRenderers\"},{\"attributes\":{},\"id\":\"1096\",\"type\":\"Selection\"},{\"attributes\":{},\"id\":\"1097\",\"type\":\"UnionRenderers\"},{\"attributes\":{},\"id\":\"1098\",\"type\":\"Selection\"},{\"attributes\":{},\"id\":\"1099\",\"type\":\"UnionRenderers\"},{\"attributes\":{},\"id\":\"1100\",\"type\":\"Selection\"},{\"attributes\":{},\"id\":\"1101\",\"type\":\"UnionRenderers\"},{\"attributes\":{},\"id\":\"1102\",\"type\":\"Selection\"},{\"attributes\":{\"fill_alpha\":{\"value\":0.1},\"fill_color\":{\"value\":\"#1f77b4\"},\"height\":{\"units\":\"data\",\"value\":13},\"line_alpha\":{\"value\":0.1},\"line_color\":{\"value\":\"#1f77b4\"},\"width\":{\"units\":\"data\",\"value\":30},\"x\":{\"field\":\"x\"},\"y\":{\"field\":\"y\"}},\"id\":\"1075\",\"type\":\"Rect\"},{\"attributes\":{},\"id\":\"1103\",\"type\":\"UnionRenderers\"},{\"attributes\":{\"data_source\":{\"id\":\"1023\",\"type\":\"ColumnDataSource\"},\"glyph\":{\"id\":\"1024\",\"type\":\"AnnularWedge\"},\"hover_glyph\":null,\"muted_glyph\":null,\"nonselection_glyph\":{\"id\":\"1025\",\"type\":\"AnnularWedge\"},\"selection_glyph\":null,\"view\":{\"id\":\"1027\",\"type\":\"CDSView\"}},\"id\":\"1026\",\"type\":\"GlyphRenderer\"},{\"attributes\":{\"end_angle\":{\"field\":\"end_angle\",\"units\":\"rad\"},\"fill_color\":{\"field\":\"fill_color\"},\"inner_radius\":{\"units\":\"data\",\"value\":90},\"line_color\":{\"field\":\"line_color\"},\"outer_radius\":{\"units\":\"data\",\"value\":290},\"start_angle\":{\"field\":\"start_angle\",\"units\":\"rad\"},\"x\":{\"value\":0},\"y\":{\"value\":0}},\"id\":\"1024\",\"type\":\"AnnularWedge\"},{\"attributes\":{},\"id\":\"1104\",\"type\":\"Selection\"},{\"attributes\":{},\"id\":\"1105\",\"type\":\"UnionRenderers\"},{\"attributes\":{},\"id\":\"1106\",\"type\":\"Selection\"},{\"attributes\":{},\"id\":\"1107\",\"type\":\"UnionRenderers\"},{\"attributes\":{},\"id\":\"1108\",\"type\":\"Selection\"},{\"attributes\":{},\"id\":\"1109\",\"type\":\"UnionRenderers\"},{\"attributes\":{},\"id\":\"1110\",\"type\":\"Selection\"},{\"attributes\":{},\"id\":\"1111\",\"type\":\"UnionRenderers\"},{\"attributes\":{\"end_angle\":{\"field\":\"end_angle\",\"units\":\"rad\"},\"fill_alpha\":{\"value\":0.1},\"fill_color\":{\"value\":\"#1f77b4\"},\"inner_radius\":{\"units\":\"data\",\"value\":90},\"line_alpha\":{\"value\":0.1},\"line_color\":{\"value\":\"#1f77b4\"},\"outer_radius\":{\"units\":\"data\",\"value\":290},\"start_angle\":{\"field\":\"start_angle\",\"units\":\"rad\"},\"x\":{\"value\":0},\"y\":{\"value\":0}},\"id\":\"1025\",\"type\":\"AnnularWedge\"},{\"attributes\":{},\"id\":\"1112\",\"type\":\"Selection\"},{\"attributes\":{\"data_source\":{\"id\":\"1053\",\"type\":\"ColumnDataSource\"},\"glyph\":{\"id\":\"1054\",\"type\":\"Circle\"},\"hover_glyph\":null,\"muted_glyph\":null,\"nonselection_glyph\":{\"id\":\"1055\",\"type\":\"Circle\"},\"selection_glyph\":null,\"view\":{\"id\":\"1057\",\"type\":\"CDSView\"}},\"id\":\"1056\",\"type\":\"GlyphRenderer\"},{\"attributes\":{},\"id\":\"1113\",\"type\":\"UnionRenderers\"},{\"attributes\":{},\"id\":\"1114\",\"type\":\"Selection\"},{\"attributes\":{\"source\":{\"id\":\"1023\",\"type\":\"ColumnDataSource\"}},\"id\":\"1027\",\"type\":\"CDSView\"},{\"attributes\":{},\"id\":\"1115\",\"type\":\"UnionRenderers\"},{\"attributes\":{\"source\":{\"id\":\"1053\",\"type\":\"ColumnDataSource\"}},\"id\":\"1057\",\"type\":\"CDSView\"},{\"attributes\":{\"callback\":null,\"data\":{\"end_angle\":{\"__ndarray__\":\"kObL40fA8T9MdkYxMAnkP+R91GtCR8I/tW649h3L1b8ujq2R7lzqv4By/xMn6vS/6R0o39al/L+qZChVwzACwGC6vDqbDgbAFBBRIHPsCcDIZeUFS8oNwL7dvHUR1BDA\",\"dtype\":\"float64\",\"shape\":[12]},\"outer_radius\":{\"__ndarray__\":\"qqqqqqpqX0CqqqqqqupcQAAAAAAAoFxAVVVVVVXVXEBVVVVVVfVcQFVVVVVVVV9AqqqqqqpaYEAAAAAAANBgQAAAAAAAoGFAqqqqqqpKYUAAAAAAALBgQKqqqqqqyl5A\",\"dtype\":\"float64\",\"shape\":[12]},\"start_angle\":{\"__ndarray__\":\"zBxrLk8M8T/E4oTGPqHiP4pfnIH5Trk/xJU7zACb2L+2IW/838Trv0Q8YMkfnvW/reeIlM9Z/b+Mydivv4oCwEIfbZWXaAbA9nQBe29GCsCqypVgRyQOwC8QFaMPARHA\",\"dtype\":\"float64\",\"shape\":[12]}},\"selected\":{\"id\":\"1098\",\"type\":\"Selection\"},\"selection_policy\":{\"id\":\"1099\",\"type\":\"UnionRenderers\"}},\"id\":\"1038\",\"type\":\"ColumnDataSource\"},{\"attributes\":{\"text_align\":\"center\",\"text_baseline\":\"middle\",\"text_color\":{\"value\":\"black\"},\"text_font_size\":{\"value\":\"11px\"},\"x\":{\"value\":0},\"y\":{\"field\":\"y\"}},\"id\":\"1059\",\"type\":\"Text\"},{\"attributes\":{\"end_angle\":{\"field\":\"end_angle\",\"units\":\"rad\"},\"fill_alpha\":{\"value\":0.1},\"fill_color\":{\"value\":\"#1f77b4\"},\"inner_radius\":{\"units\":\"data\",\"value\":90},\"line_alpha\":{\"value\":0.1},\"line_color\":{\"value\":\"#1f77b4\"},\"outer_radius\":{\"field\":\"outer_radius\",\"units\":\"data\"},\"start_angle\":{\"field\":\"start_angle\",\"units\":\"rad\"},\"x\":{\"value\":0},\"y\":{\"value\":0}},\"id\":\"1040\",\"type\":\"AnnularWedge\"},{\"attributes\":{\"source\":{\"id\":\"1038\",\"type\":\"ColumnDataSource\"}},\"id\":\"1042\",\"type\":\"CDSView\"},{\"attributes\":{\"callback\":null,\"data\":{\"end_angle\":{\"__ndarray__\":\"CFMKeVZY8D89T8NbTTnhP5yGH1fcHqw/1Ly+oeNq278+tTBn0SztvwgGwX4YUva/cbHpScgN/r9tLokKvOQCwCOEHfCTwgbA19mx1WugCsCLL0a7Q34OwKBCbdANLhHA\",\"dtype\":\"float64\",\"shape\":[12]},\"outer_radius\":{\"__ndarray__\":\"qqqqqqoKX0CqqqqqqspdQAAAAAAAoF1AqqqqqqqaYEBVVVVVVaVgQKqqqqqqSmNAAAAAAABAYkCqqqqqqipjQKqqqqqqOmNAAAAAAABAY0CqqqqqqkpiQAAAAAAAYGFA\",\"dtype\":\"float64\",\"shape\":[12]},\"start_angle\":{\"__ndarray__\":\"iRJTh7tI7z9qdwPit6LfP5A4GawWf4Y/4uNBd8Y63r/FSPLRwpTuv8zPITQRBve/NXtK/8DB/r9PkzlluD4DwAXpzUqQHAfAuT5iMGj6CsBtlPYVQNgOwBF1xf0LWxHA\",\"dtype\":\"float64\",\"shape\":[12]}},\"selected\":{\"id\":\"1100\",\"type\":\"Selection\"},\"selection_policy\":{\"id\":\"1101\",\"type\":\"UnionRenderers\"}},\"id\":\"1043\",\"type\":\"ColumnDataSource\"},{\"attributes\":{\"callback\":null,\"data\":{\"text\":[\"0.0\",\"200.0\",\"400.0\",\"600.0\",\"800.0\",\"1000.0\",\"1200.0\"],\"y\":{\"__ndarray__\":\"AAAAAACAVkBVVVVVVdVeQFVVVVVVlWNAAAAAAADAZ0CqqqqqquprQKqqqqqqCnBAAAAAAAAgckA=\",\"dtype\":\"float64\",\"shape\":[7]}},\"selected\":{\"id\":\"1106\",\"type\":\"Selection\"},\"selection_policy\":{\"id\":\"1107\",\"type\":\"UnionRenderers\"}},\"id\":\"1058\",\"type\":\"ColumnDataSource\"},{\"attributes\":{\"callback\":null,\"end\":420,\"start\":-420},\"id\":\"1002\",\"type\":\"Range1d\"},{\"attributes\":{\"data_source\":{\"id\":\"1038\",\"type\":\"ColumnDataSource\"},\"glyph\":{\"id\":\"1039\",\"type\":\"AnnularWedge\"},\"hover_glyph\":null,\"muted_glyph\":null,\"nonselection_glyph\":{\"id\":\"1040\",\"type\":\"AnnularWedge\"},\"selection_glyph\":null,\"view\":{\"id\":\"1042\",\"type\":\"CDSView\"}},\"id\":\"1041\",\"type\":\"GlyphRenderer\"},{\"attributes\":{\"end_angle\":{\"field\":\"end_angle\",\"units\":\"rad\"},\"fill_color\":{\"value\":\"black\"},\"inner_radius\":{\"units\":\"data\",\"value\":80},\"outer_radius\":{\"units\":\"data\",\"value\":300},\"start_angle\":{\"field\":\"start_angle\",\"units\":\"rad\"},\"x\":{\"value\":0},\"y\":{\"value\":0}},\"id\":\"1064\",\"type\":\"AnnularWedge\"},{\"attributes\":{\"callback\":null,\"end\":420,\"start\":-420},\"id\":\"1004\",\"type\":\"Range1d\"},{\"attributes\":{\"callback\":null,\"data\":{\"end_angle\":{\"__ndarray__\":\"nw1PuSqQ9D9qxEzc9ajpPy7b9ossY9Q/8qRXQSUXxb8QQKfmKL3kv3FLfD5EGvK/2vakCfTV+b8i0Wbq0cgAwNgm+8+ppgTAjHyPtYGECMBA0iObWWIMwPsTXMAYIBDA\",\"dtype\":\"float64\",\"shape\":[12]},\"outer_radius\":{\"__ndarray__\":\"AAAAAABIcUAAAAAAAABlQKqqqqqqqmNAAAAAAADga0CqqqqqqvppQFVVVVVVRWZAVVVVVVW1a0BVVVVVVaViQFVVVVVVxWNAVVVVVVW1a0AAAAAAAEBnQAAAAAAAkGdA\",\"dtype\":\"float64\",\"shape\":[12]},\"start_angle\":{\"__ndarray__\":\"20PuAzLc8z/iMItxBEHoPx+0c7ZJk9E/EPNd7Oq2yr+Y02hRGiXmvzUV3fM8zvK/nsAFv+yJ+r8ENhdFziIBwLqLqyqmAAXAbuE/EH7eCMAiN9T1VbwMwGxGtO0WTRDA\",\"dtype\":\"float64\",\"shape\":[12]}},\"selected\":{\"id\":\"1094\",\"type\":\"Selection\"},\"selection_policy\":{\"id\":\"1095\",\"type\":\"UnionRenderers\"}},\"id\":\"1028\",\"type\":\"ColumnDataSource\"},{\"attributes\":{\"end_angle\":{\"field\":\"end_angle\",\"units\":\"rad\"},\"fill_color\":{\"value\":\"darkgreen\"},\"inner_radius\":{\"units\":\"data\",\"value\":90},\"line_color\":{\"value\":\"darkgreen\"},\"outer_radius\":{\"field\":\"outer_radius\",\"units\":\"data\"},\"start_angle\":{\"field\":\"start_angle\",\"units\":\"rad\"},\"x\":{\"value\":0},\"y\":{\"value\":0}},\"id\":\"1044\",\"type\":\"AnnularWedge\"},{\"attributes\":{\"text_align\":\"center\",\"text_alpha\":{\"value\":0.1},\"text_baseline\":\"middle\",\"text_color\":{\"value\":\"black\"},\"text_font_size\":{\"value\":\"11px\"},\"x\":{\"value\":0},\"y\":{\"field\":\"y\"}},\"id\":\"1060\",\"type\":\"Text\"},{\"attributes\":{\"end_angle\":{\"field\":\"end_angle\",\"units\":\"rad\"},\"fill_color\":{\"value\":\"#0d3362\"},\"inner_radius\":{\"units\":\"data\",\"value\":90},\"line_color\":{\"value\":\"#0d3362\"},\"outer_radius\":{\"field\":\"outer_radius\",\"units\":\"data\"},\"start_angle\":{\"field\":\"start_angle\",\"units\":\"rad\"},\"x\":{\"value\":0},\"y\":{\"value\":0}},\"id\":\"1029\",\"type\":\"AnnularWedge\"},{\"attributes\":{\"data_source\":{\"id\":\"1058\",\"type\":\"ColumnDataSource\"},\"glyph\":{\"id\":\"1059\",\"type\":\"Text\"},\"hover_glyph\":null,\"muted_glyph\":null,\"nonselection_glyph\":{\"id\":\"1060\",\"type\":\"Text\"},\"selection_glyph\":null,\"view\":{\"id\":\"1062\",\"type\":\"CDSView\"}},\"id\":\"1061\",\"type\":\"GlyphRenderer\"},{\"attributes\":{\"source\":{\"id\":\"1058\",\"type\":\"ColumnDataSource\"}},\"id\":\"1062\",\"type\":\"CDSView\"},{\"attributes\":{\"callback\":null,\"data\":{\"end_angle\":{\"__ndarray__\":\"8lcOR+cQ6z89AnphDzPXP6Stoiy/7r6/iKzlezdV47+ugRuJS2bxvxctRFT7Ifm/QGy2j9VuAMD1wUp1rUwEwKsX31qFKgjAX21zQF0IDMATwwcmNeYPwGQMzoUG4hHA\",\"dtype\":\"float64\",\"shape\":[12]},\"start_angle\":{\"__ndarray__\":\"8lcOR+cQ6z89AnphDzPXP6Stoiy/7r6/iKzlezdV47+ugRuJS2bxvxctRFT7Ifm/QGy2j9VuAMD1wUp1rUwEwKsX31qFKgjAX21zQF0IDMATwwcmNeYPwGQMzoUG4hHA\",\"dtype\":\"float64\",\"shape\":[12]}},\"selected\":{\"id\":\"1108\",\"type\":\"Selection\"},\"selection_policy\":{\"id\":\"1109\",\"type\":\"UnionRenderers\"}},\"id\":\"1063\",\"type\":\"ColumnDataSource\"},{\"attributes\":{\"end_angle\":{\"field\":\"end_angle\",\"units\":\"rad\"},\"fill_alpha\":{\"value\":0.1},\"fill_color\":{\"value\":\"#1f77b4\"},\"inner_radius\":{\"units\":\"data\",\"value\":90},\"line_alpha\":{\"value\":0.1},\"line_color\":{\"value\":\"#1f77b4\"},\"outer_radius\":{\"field\":\"outer_radius\",\"units\":\"data\"},\"start_angle\":{\"field\":\"start_angle\",\"units\":\"rad\"},\"x\":{\"value\":0},\"y\":{\"value\":0}},\"id\":\"1045\",\"type\":\"AnnularWedge\"},{\"attributes\":{\"source\":{\"id\":\"1063\",\"type\":\"ColumnDataSource\"}},\"id\":\"1067\",\"type\":\"CDSView\"},{\"attributes\":{\"end_angle\":{\"field\":\"end_angle\",\"units\":\"rad\"},\"fill_alpha\":{\"value\":0.1},\"fill_color\":{\"value\":\"#1f77b4\"},\"inner_radius\":{\"units\":\"data\",\"value\":80},\"line_alpha\":{\"value\":0.1},\"line_color\":{\"value\":\"#1f77b4\"},\"outer_radius\":{\"units\":\"data\",\"value\":300},\"start_angle\":{\"field\":\"start_angle\",\"units\":\"rad\"},\"x\":{\"value\":0},\"y\":{\"value\":0}},\"id\":\"1065\",\"type\":\"AnnularWedge\"},{\"attributes\":{\"callback\":null,\"data\":{\"end_angle\":{\"__ndarray__\":\"Y9evbiNE9T/yVw5H5xDrPz4CemEPM9c/oK2iLL/uvr+IrOV7N1Xjv62BG4lLZvG/Fy1EVPsh+b9AbLaP1W4AwPbBSnWtTATAqhffWoUqCMBebXNAXQgMwBTDByY15g/A\",\"dtype\":\"float64\",\"shape\":[12]},\"fill_color\":[\"white\",\"white\",\"white\",\"white\",\"white\",\"white\",\"white\",\"white\",\"white\",\"white\",\"white\",\"white\"],\"line_color\":[\"white\",\"white\",\"white\",\"white\",\"white\",\"white\",\"white\",\"white\",\"white\",\"white\",\"white\",\"white\"],\"start_angle\":{\"__ndarray__\":\"8lcOR+cQ6z89AnphDzPXP6Stoiy/7r6/iKzlezdV47+ugRuJS2bxvxctRFT7Ifm/QGy2j9VuAMD1wUp1rUwEwKsX31qFKgjAX21zQF0IDMATwwcmNeYPwGQMzoUG4hHA\",\"dtype\":\"float64\",\"shape\":[12]}},\"selected\":{\"id\":\"1092\",\"type\":\"Selection\"},\"selection_policy\":{\"id\":\"1093\",\"type\":\"UnionRenderers\"}},\"id\":\"1023\",\"type\":\"ColumnDataSource\"},{\"attributes\":{\"data_source\":{\"id\":\"1043\",\"type\":\"ColumnDataSource\"},\"glyph\":{\"id\":\"1044\",\"type\":\"AnnularWedge\"},\"hover_glyph\":null,\"muted_glyph\":null,\"nonselection_glyph\":{\"id\":\"1045\",\"type\":\"AnnularWedge\"},\"selection_glyph\":null,\"view\":{\"id\":\"1047\",\"type\":\"CDSView\"}},\"id\":\"1046\",\"type\":\"GlyphRenderer\"},{\"attributes\":{\"source\":{\"id\":\"1043\",\"type\":\"ColumnDataSource\"}},\"id\":\"1047\",\"type\":\"CDSView\"},{\"attributes\":{\"data_source\":{\"id\":\"1063\",\"type\":\"ColumnDataSource\"},\"glyph\":{\"id\":\"1064\",\"type\":\"AnnularWedge\"},\"hover_glyph\":null,\"muted_glyph\":null,\"nonselection_glyph\":{\"id\":\"1065\",\"type\":\"AnnularWedge\"},\"selection_glyph\":null,\"view\":{\"id\":\"1067\",\"type\":\"CDSView\"}},\"id\":\"1066\",\"type\":\"GlyphRenderer\"},{\"attributes\":{\"active_drag\":\"auto\",\"active_inspect\":\"auto\",\"active_multi\":null,\"active_scroll\":\"auto\",\"active_tap\":\"auto\",\"tools\":[{\"id\":\"1010\",\"type\":\"PanTool\"},{\"id\":\"1011\",\"type\":\"WheelZoomTool\"},{\"id\":\"1012\",\"type\":\"BoxZoomTool\"},{\"id\":\"1013\",\"type\":\"SaveTool\"},{\"id\":\"1014\",\"type\":\"ResetTool\"},{\"id\":\"1015\",\"type\":\"HelpTool\"}]},\"id\":\"1016\",\"type\":\"Toolbar\"},{\"attributes\":{\"callback\":null,\"data\":{\"angle\":{\"__ndarray__\":\"roEbiUtm8T+IrOV7N1XjP6qtoiy/7r4/PAJ6YQ8z17/yVw5H5xDrv2LXr24jRPW/ZNevbiNE9T/4Vw5H5xDrP0ACemEPM9c/gK2iLL/uvr+ArOV7N1Xjv6yBG4lLZvG/\",\"dtype\":\"float64\",\"shape\":[12]},\"text\":[\"Jan\",\"Feb\",\"Mar\",\"Apr\",\"May\",\"Jun\",\"Jul\",\"Aug\",\"Sep\",\"Oct\",\"Nov\",\"Dec\"],\"x\":{\"__ndarray__\":\"+NM0yg0CYkAihbP8/+NvQJ0QHQXWO3NAxoZsOa4dckCLQchALbJpQNkB4NQFjFJAzQHg1AWMUsCEQchALbJpwMWGbDmuHXLAnRAdBdY7c8AohbP8/+NvwP3TNMoNAmLA\",\"dtype\":\"float64\",\"shape\":[12]},\"y\":{\"__ndarray__\":\"TWSkpNwncUCzTh7JMwNmQA8UsD3lrkJAX9XNZ1x7W8DD2eMDOgFtwO8rBBXfz3LA8CsEFd/PcsDJ2eMDOgFtwGbVzWdce1vA8BOwPeWuQkCrTh7JMwNmQEtkpKTcJ3FA\",\"dtype\":\"float64\",\"shape\":[12]}},\"selected\":{\"id\":\"1110\",\"type\":\"Selection\"},\"selection_policy\":{\"id\":\"1111\",\"type\":\"UnionRenderers\"}},\"id\":\"1068\",\"type\":\"ColumnDataSource\"},{\"attributes\":{\"angle\":{\"field\":\"angle\",\"units\":\"rad\"},\"text_align\":\"center\",\"text_baseline\":\"middle\",\"text_color\":{\"value\":\"black\"},\"text_font_size\":{\"value\":\"12px\"},\"text_font_style\":\"bold\",\"x\":{\"field\":\"x\"},\"y\":{\"field\":\"y\"}},\"id\":\"1069\",\"type\":\"Text\"},{\"attributes\":{},\"id\":\"1006\",\"type\":\"LinearScale\"},{\"attributes\":{\"data_source\":{\"id\":\"1068\",\"type\":\"ColumnDataSource\"},\"glyph\":{\"id\":\"1069\",\"type\":\"Text\"},\"hover_glyph\":null,\"muted_glyph\":null,\"nonselection_glyph\":{\"id\":\"1070\",\"type\":\"Text\"},\"selection_glyph\":null,\"view\":{\"id\":\"1072\",\"type\":\"CDSView\"}},\"id\":\"1071\",\"type\":\"GlyphRenderer\"},{\"attributes\":{\"callback\":null,\"data\":{\"end_angle\":{\"__ndarray__\":\"AX+RHMrg7T9bUIAM1dLcP1bqEgFR36C/eYViplSF4L9N3LM8tPzvv4+ZgukJuve/+ESrtLl1/78x+Om/tJgDwOdNfqWMdgfAm6MSi2RUC8BP+aZwPDIPwIKnHSsKiBHA\",\"dtype\":\"float64\",\"shape\":[12]},\"outer_radius\":{\"__ndarray__\":\"AAAAAADwYkAAAAAAAHBgQAAAAAAAsGNAqqqqqqo6ZECqqqqqqqppQFVVVVVVZWVAqqqqqqqqaUAAAAAAAKBpQKqqqqqq2mtAqqqqqqo6cEBVVVVVVTVtQKqqqqqqWnFA\",\"dtype\":\"float64\",\"shape\":[12]},\"start_angle\":{\"__ndarray__\":\"euvPsdh47D9MKf028gLaP2gRltYzr7O/ABkkEUbt4b/qt7rTUrLwv1Nj454Cbvi/XgcGNdkUAMATXZoasfIDwMmyLgCJ0AfAfQjD5WCuC8AxXlfLOIwPwPPZdVgItRHA\",\"dtype\":\"float64\",\"shape\":[12]}},\"selected\":{\"id\":\"1102\",\"type\":\"Selection\"},\"selection_policy\":{\"id\":\"1103\",\"type\":\"UnionRenderers\"}},\"id\":\"1048\",\"type\":\"ColumnDataSource\"},{\"attributes\":{\"fill_color\":{\"field\":\"fill_color\"},\"height\":{\"units\":\"data\",\"value\":13},\"line_color\":{\"field\":\"line_color\"},\"width\":{\"units\":\"data\",\"value\":30},\"x\":{\"field\":\"x\"},\"y\":{\"field\":\"y\"}},\"id\":\"1074\",\"type\":\"Rect\"},{\"attributes\":{\"end_angle\":{\"field\":\"end_angle\",\"units\":\"rad\"},\"fill_color\":{\"value\":\"purple\"},\"inner_radius\":{\"units\":\"data\",\"value\":90},\"line_color\":{\"value\":\"purple\"},\"outer_radius\":{\"field\":\"outer_radius\",\"units\":\"data\"},\"start_angle\":{\"field\":\"start_angle\",\"units\":\"rad\"},\"x\":{\"value\":0},\"y\":{\"value\":0}},\"id\":\"1049\",\"type\":\"AnnularWedge\"},{\"attributes\":{\"angle\":{\"field\":\"angle\",\"units\":\"rad\"},\"text_align\":\"center\",\"text_alpha\":{\"value\":0.1},\"text_baseline\":\"middle\",\"text_color\":{\"value\":\"black\"},\"text_font_size\":{\"value\":\"12px\"},\"text_font_style\":\"bold\",\"x\":{\"field\":\"x\"},\"y\":{\"field\":\"y\"}},\"id\":\"1070\",\"type\":\"Text\"},{\"attributes\":{},\"id\":\"1008\",\"type\":\"LinearScale\"},{\"attributes\":{\"end_angle\":{\"field\":\"end_angle\",\"units\":\"rad\"},\"fill_alpha\":{\"value\":0.1},\"fill_color\":{\"value\":\"#1f77b4\"},\"inner_radius\":{\"units\":\"data\",\"value\":90},\"line_alpha\":{\"value\":0.1},\"line_color\":{\"value\":\"#1f77b4\"},\"outer_radius\":{\"field\":\"outer_radius\",\"units\":\"data\"},\"start_angle\":{\"field\":\"start_angle\",\"units\":\"rad\"},\"x\":{\"value\":0},\"y\":{\"value\":0}},\"id\":\"1030\",\"type\":\"AnnularWedge\"},{\"attributes\":{\"data_source\":{\"id\":\"1028\",\"type\":\"ColumnDataSource\"},\"glyph\":{\"id\":\"1029\",\"type\":\"AnnularWedge\"},\"hover_glyph\":null,\"muted_glyph\":null,\"nonselection_glyph\":{\"id\":\"1030\",\"type\":\"AnnularWedge\"},\"selection_glyph\":null,\"view\":{\"id\":\"1032\",\"type\":\"CDSView\"}},\"id\":\"1031\",\"type\":\"GlyphRenderer\"},{\"attributes\":{\"source\":{\"id\":\"1028\",\"type\":\"ColumnDataSource\"}},\"id\":\"1032\",\"type\":\"CDSView\"},{\"attributes\":{\"source\":{\"id\":\"1068\",\"type\":\"ColumnDataSource\"}},\"id\":\"1072\",\"type\":\"CDSView\"},{\"attributes\":{\"overlay\":{\"id\":\"1091\",\"type\":\"BoxAnnotation\"}},\"id\":\"1012\",\"type\":\"BoxZoomTool\"},{\"attributes\":{\"callback\":null,\"data\":{\"fill_color\":[\"#0d3362\",\"#c64737\",\"black\",\"darkgreen\",\"purple\"],\"line_color\":[\"#0d3362\",\"#c64737\",\"black\",\"darkgreen\",\"purple\"],\"x\":[-40,-40,-40,-40,-40],\"y\":[36,18,0,-18,-36]},\"selected\":{\"id\":\"1112\",\"type\":\"Selection\"},\"selection_policy\":{\"id\":\"1113\",\"type\":\"UnionRenderers\"}},\"id\":\"1073\",\"type\":\"ColumnDataSource\"},{\"attributes\":{\"end_angle\":{\"field\":\"end_angle\",\"units\":\"rad\"},\"fill_alpha\":{\"value\":0.1},\"fill_color\":{\"value\":\"#1f77b4\"},\"inner_radius\":{\"units\":\"data\",\"value\":90},\"line_alpha\":{\"value\":0.1},\"line_color\":{\"value\":\"#1f77b4\"},\"outer_radius\":{\"field\":\"outer_radius\",\"units\":\"data\"},\"start_angle\":{\"field\":\"start_angle\",\"units\":\"rad\"},\"x\":{\"value\":0},\"y\":{\"value\":0}},\"id\":\"1050\",\"type\":\"AnnularWedge\"},{\"attributes\":{\"data_source\":{\"id\":\"1073\",\"type\":\"ColumnDataSource\"},\"glyph\":{\"id\":\"1074\",\"type\":\"Rect\"},\"hover_glyph\":null,\"muted_glyph\":null,\"nonselection_glyph\":{\"id\":\"1075\",\"type\":\"Rect\"},\"selection_glyph\":null,\"view\":{\"id\":\"1077\",\"type\":\"CDSView\"}},\"id\":\"1076\",\"type\":\"GlyphRenderer\"},{\"attributes\":{\"data_source\":{\"id\":\"1048\",\"type\":\"ColumnDataSource\"},\"glyph\":{\"id\":\"1049\",\"type\":\"AnnularWedge\"},\"hover_glyph\":null,\"muted_glyph\":null,\"nonselection_glyph\":{\"id\":\"1050\",\"type\":\"AnnularWedge\"},\"selection_glyph\":null,\"view\":{\"id\":\"1052\",\"type\":\"CDSView\"}},\"id\":\"1051\",\"type\":\"GlyphRenderer\"},{\"attributes\":{\"end_angle\":{\"field\":\"end_angle\",\"units\":\"rad\"},\"fill_color\":{\"value\":\"#c64737\"},\"inner_radius\":{\"units\":\"data\",\"value\":90},\"line_color\":{\"value\":\"#c64737\"},\"outer_radius\":{\"field\":\"outer_radius\",\"units\":\"data\"},\"start_angle\":{\"field\":\"start_angle\",\"units\":\"rad\"},\"x\":{\"value\":0},\"y\":{\"value\":0}},\"id\":\"1034\",\"type\":\"AnnularWedge\"},{\"attributes\":{\"source\":{\"id\":\"1073\",\"type\":\"ColumnDataSource\"}},\"id\":\"1077\",\"type\":\"CDSView\"},{\"attributes\":{},\"id\":\"1015\",\"type\":\"HelpTool\"},{\"attributes\":{\"source\":{\"id\":\"1048\",\"type\":\"ColumnDataSource\"}},\"id\":\"1052\",\"type\":\"CDSView\"},{\"attributes\":{},\"id\":\"1014\",\"type\":\"ResetTool\"},{\"attributes\":{\"callback\":null,\"data\":{\"end_angle\":{\"__ndarray__\":\"F3qNTjko8z9bnckGE9nmPyAa4cHNhs0/lyCyS1gr0L8gZyq8C43nv/nePak1gvO/YopmdOU9+7/mmsefynwBwJzwW4WiWgXAUEbwano4CcAEnIRQUhYNwNx4DBsVehDA\",\"dtype\":\"float64\",\"shape\":[12]},\"outer_radius\":{\"__ndarray__\":\"AAAAAACAZUCqqqqqqoplQAAAAAAAcGRAqqqqqqoqYUAAAAAAAJBiQAAAAAAAkGFAAAAAAAAgY0BVVVVVVQViQKqqqqqqamFAqqqqqqpKZkCqqqqqqopeQAAAAAAAQFxA\",\"dtype\":\"float64\",\"shape\":[12]},\"start_angle\":{\"__ndarray__\":\"VLAsmUB08j/UCQicIXHlPwLM2hYI58c/pkc1ITv70r+n+usm/fTov7yonl4uNvS/JlTHKd7x+7/I/3f6xtYBwH5VDOCetAXAMqugxXaSCcDmADWrTnANwE2rZEgTpxDA\",\"dtype\":\"float64\",\"shape\":[12]}},\"selected\":{\"id\":\"1096\",\"type\":\"Selection\"},\"selection_policy\":{\"id\":\"1097\",\"type\":\"UnionRenderers\"}},\"id\":\"1033\",\"type\":\"ColumnDataSource\"},{\"attributes\":{\"end_angle\":{\"field\":\"end_angle\",\"units\":\"rad\"},\"fill_alpha\":{\"value\":0.1},\"fill_color\":{\"value\":\"#1f77b4\"},\"inner_radius\":{\"units\":\"data\",\"value\":90},\"line_alpha\":{\"value\":0.1},\"line_color\":{\"value\":\"#1f77b4\"},\"outer_radius\":{\"field\":\"outer_radius\",\"units\":\"data\"},\"start_angle\":{\"field\":\"start_angle\",\"units\":\"rad\"},\"x\":{\"value\":0},\"y\":{\"value\":0}},\"id\":\"1035\",\"type\":\"AnnularWedge\"},{\"attributes\":{\"callback\":null,\"data\":{\"radius\":{\"__ndarray__\":\"AAAAAACAVkBVVVVVVdVeQFVVVVVVlWNAAAAAAADAZ0CqqqqqquprQKqqqqqqCnBAAAAAAAAgckA=\",\"dtype\":\"float64\",\"shape\":[7]}},\"selected\":{\"id\":\"1104\",\"type\":\"Selection\"},\"selection_policy\":{\"id\":\"1105\",\"type\":\"UnionRenderers\"}},\"id\":\"1053\",\"type\":\"ColumnDataSource\"},{\"attributes\":{\"callback\":null,\"data\":{\"text\":[\"year15\",\"year16\",\"year17\",\"year18\",\"year19\"],\"x\":[-15,-15,-15,-15,-15],\"y\":[36,18,0,-18,-36]},\"selected\":{\"id\":\"1114\",\"type\":\"Selection\"},\"selection_policy\":{\"id\":\"1115\",\"type\":\"UnionRenderers\"}},\"id\":\"1078\",\"type\":\"ColumnDataSource\"},{\"attributes\":{},\"id\":\"1013\",\"type\":\"SaveTool\"},{\"attributes\":{\"text_baseline\":\"middle\",\"text_color\":{\"value\":\"black\"},\"text_font_size\":{\"value\":\"12px\"},\"x\":{\"field\":\"x\"},\"y\":{\"field\":\"y\"}},\"id\":\"1079\",\"type\":\"Text\"},{\"attributes\":{\"data_source\":{\"id\":\"1033\",\"type\":\"ColumnDataSource\"},\"glyph\":{\"id\":\"1034\",\"type\":\"AnnularWedge\"},\"hover_glyph\":null,\"muted_glyph\":null,\"nonselection_glyph\":{\"id\":\"1035\",\"type\":\"AnnularWedge\"},\"selection_glyph\":null,\"view\":{\"id\":\"1037\",\"type\":\"CDSView\"}},\"id\":\"1036\",\"type\":\"GlyphRenderer\"},{\"attributes\":{},\"id\":\"1010\",\"type\":\"PanTool\"},{\"attributes\":{\"source\":{\"id\":\"1033\",\"type\":\"ColumnDataSource\"}},\"id\":\"1037\",\"type\":\"CDSView\"},{\"attributes\":{\"text_alpha\":{\"value\":0.1},\"text_baseline\":\"middle\",\"text_color\":{\"value\":\"black\"},\"text_font_size\":{\"value\":\"12px\"},\"x\":{\"field\":\"x\"},\"y\":{\"field\":\"y\"}},\"id\":\"1080\",\"type\":\"Text\"},{\"attributes\":{\"end_angle\":{\"field\":\"end_angle\",\"units\":\"rad\"},\"fill_color\":{\"value\":\"black\"},\"inner_radius\":{\"units\":\"data\",\"value\":90},\"outer_radius\":{\"field\":\"outer_radius\",\"units\":\"data\"},\"start_angle\":{\"field\":\"start_angle\",\"units\":\"rad\"},\"x\":{\"value\":0},\"y\":{\"value\":0}},\"id\":\"1039\",\"type\":\"AnnularWedge\"},{\"attributes\":{},\"id\":\"1011\",\"type\":\"WheelZoomTool\"},{\"attributes\":{\"fill_color\":{\"value\":null},\"line_color\":{\"value\":\"white\"},\"radius\":{\"field\":\"radius\",\"units\":\"data\"},\"x\":{\"value\":0},\"y\":{\"value\":0}},\"id\":\"1054\",\"type\":\"Circle\"},{\"attributes\":{\"fill_alpha\":{\"value\":0.1},\"fill_color\":{\"value\":\"#1f77b4\"},\"line_alpha\":{\"value\":0.1},\"line_color\":{\"value\":\"#1f77b4\"},\"radius\":{\"field\":\"radius\",\"units\":\"data\"},\"x\":{\"value\":0},\"y\":{\"value\":0}},\"id\":\"1055\",\"type\":\"Circle\"},{\"attributes\":{\"source\":{\"id\":\"1078\",\"type\":\"ColumnDataSource\"}},\"id\":\"1082\",\"type\":\"CDSView\"},{\"attributes\":{\"data_source\":{\"id\":\"1078\",\"type\":\"ColumnDataSource\"},\"glyph\":{\"id\":\"1079\",\"type\":\"Text\"},\"hover_glyph\":null,\"muted_glyph\":null,\"nonselection_glyph\":{\"id\":\"1080\",\"type\":\"Text\"},\"selection_glyph\":null,\"view\":{\"id\":\"1082\",\"type\":\"CDSView\"}},\"id\":\"1081\",\"type\":\"GlyphRenderer\"}],\"root_ids\":[\"1001\"]},\"title\":\"Bokeh Application\",\"version\":\"1.4.0\"}};\n",
       "  var render_items = [{\"docid\":\"407abeee-dc57-43b3-8610-c25ef0a6d413\",\"roots\":{\"1001\":\"26070fb5-79d5-4320-aced-8147e30f8f65\"}}];\n",
       "  root.Bokeh.embed.embed_items_notebook(docs_json, render_items);\n",
       "\n",
       "  }\n",
       "  if (root.Bokeh !== undefined) {\n",
       "    embed_document(root);\n",
       "  } else {\n",
       "    var attempts = 0;\n",
       "    var timer = setInterval(function(root) {\n",
       "      if (root.Bokeh !== undefined) {\n",
       "        clearInterval(timer);\n",
       "        embed_document(root);\n",
       "      } else {\n",
       "        attempts++;\n",
       "        if (attempts > 100) {\n",
       "          clearInterval(timer);\n",
       "          console.log(\"Bokeh: ERROR: Unable to run BokehJS code because BokehJS library is missing\");\n",
       "        }\n",
       "      }\n",
       "    }, 10, root)\n",
       "  }\n",
       "})(window);"
      ],
      "application/vnd.bokehjs_exec.v0+json": ""
     },
     "metadata": {
      "application/vnd.bokehjs_exec.v0+json": {
       "id": "1001"
      }
     },
     "output_type": "display_data"
    }
   ],
   "source": [
    "plot_radial(df, year_color, wedge_color)"
   ]
  },
  {
   "cell_type": "markdown",
   "metadata": {},
   "source": [
    "**<font color= green>as already seen, 2015 and 2019 are the most active years <br>\n",
    "Here the plots allows to clearly see the month level.  <br>\n",
    "We see that in January 2015 and December 2019 are the bigger months <br>\n",
    "2019 is very likely highly impeachment topics related.  <br>\n",
    "It would be good to look at January 2015 tweets to see the hot topic(s) of the time</font>**"
   ]
  },
  {
   "cell_type": "markdown",
   "metadata": {},
   "source": [
    "# look at tweets time"
   ]
  },
  {
   "cell_type": "markdown",
   "metadata": {},
   "source": [
    "see the number of tweets for each hour of the day"
   ]
  },
  {
   "cell_type": "code",
   "execution_count": 20,
   "metadata": {},
   "outputs": [],
   "source": [
    "rdd_hour = rdd_dates_str.map(lambda x : (x[11:13],1))\\\n",
    "                        .reduceByKey(lambda a,b: a+b)\\\n",
    "                        .sortBy(lambda tuple: tuple[0], ascending=True)"
   ]
  },
  {
   "cell_type": "code",
   "execution_count": 21,
   "metadata": {},
   "outputs": [
    {
     "name": "stdout",
     "output_type": "stream",
     "text": [
      "1390  tweets ( 4.8 %) written at 00\n",
      "1520  tweets ( 5.2 %) written at 01\n",
      "1640  tweets ( 5.7 %) written at 02\n",
      "1512  tweets ( 5.2 %) written at 03\n",
      "1056  tweets ( 3.6 %) written at 04\n",
      "538  tweets ( 1.9 %) written at 05\n",
      "234  tweets ( 0.8 %) written at 06\n",
      "158  tweets ( 0.5 %) written at 07\n",
      "158  tweets ( 0.5 %) written at 08\n",
      "293  tweets ( 1.0 %) written at 09\n",
      "926  tweets ( 3.2 %) written at 10\n",
      "1837  tweets ( 6.3 %) written at 11\n",
      "2327  tweets ( 8.0 %) written at 12\n",
      "2097  tweets ( 7.2 %) written at 13\n",
      "1738  tweets ( 6.0 %) written at 14\n",
      "1404  tweets ( 4.8 %) written at 15\n",
      "1128  tweets ( 3.9 %) written at 16\n",
      "1014  tweets ( 3.5 %) written at 17\n",
      "1094  tweets ( 3.8 %) written at 18\n",
      "1364  tweets ( 4.7 %) written at 19\n",
      "1388  tweets ( 4.8 %) written at 20\n",
      "1399  tweets ( 4.8 %) written at 21\n",
      "1408  tweets ( 4.9 %) written at 22\n",
      "1349  tweets ( 4.7 %) written at 23\n"
     ]
    }
   ],
   "source": [
    "hour_list = rdd_hour.collect()\n",
    "for val in hour_list:\n",
    "    print(val[1], \" tweets (\", round(100*val[1]/N_tweets,1),\"%) written at\", val[0])"
   ]
  },
  {
   "cell_type": "markdown",
   "metadata": {},
   "source": [
    "**<font color= green>tweets appear written round the clock with just decrease between 5am to 10am. Maybe the timezone of the collected data has to be checked</font>**"
   ]
  },
  {
   "cell_type": "markdown",
   "metadata": {},
   "source": [
    "# clean the text"
   ]
  },
  {
   "cell_type": "code",
   "execution_count": 22,
   "metadata": {},
   "outputs": [
    {
     "data": {
      "text/plain": [
       "['white house news conference today at 5:30 p.m. eastern. thank you!',\n",
       " 'we are having very productive calls with the leaders of every sector of the economy who are all-in on getting america back to work and soon. more to come! #maga',\n",
       " 'my condolences to the steinbrenner family and the entire @yankees organization on the passing of hank steinbrenner. he was a friend and will be missed greatly by all! ',\n",
       " '#thanksfordelivering @ups! ',\n",
       " '@usnavy: hard at work in #nyc.#usnavy sailors provide care for trauma emergency and urgent care patients without regard to their #co…',\n",
       " 'our great senator from south carolina @senatortimscott just released a fantastic new book “opportunity knocks: how hard work community and business can improve lives and end poverty.” get your copy today! ',\n",
       " '@gopleader: rt to tell chuck schumer and nancy pelosi to stop blocking critical funding for small businesses. the paycheck protection pr…',\n",
       " '“the art of an oil deal” ',\n",
       " \"@whitehouse: president @realdonaldtrump is halting funding of the world health organization while a review is conducted to assess who's…\"]"
      ]
     },
     "execution_count": 22,
     "metadata": {},
     "output_type": "execute_result"
    }
   ],
   "source": [
    "# remove ending dates, hyperlinks, RT, and some \n",
    "rdd_tweets_clean = rdd_tweets.map(lambda x : x[0:-20])\\\n",
    "                             .map(lambda x : re.sub(r\"http\\S+\", \"\", x))\\\n",
    "                             .map(lambda x : re.sub(r\"\\ART \", \"\", x))\\\n",
    "                             .map(lambda x : x.lower())\n",
    "# cache rdd_tweets_clean \n",
    "rdd_tweets_clean.cache\n",
    "\n",
    "\n",
    "#rdd_tweets_clean.saveAsTextFile('tweets_clean')\n",
    "rdd_tweets_clean.take(9)"
   ]
  },
  {
   "cell_type": "markdown",
   "metadata": {},
   "source": [
    "**<font color= green>compute the average number of characters per tweet</font>**"
   ]
  },
  {
   "cell_type": "code",
   "execution_count": 23,
   "metadata": {},
   "outputs": [
    {
     "name": "stdout",
     "output_type": "stream",
     "text": [
      "tweets are 131 characters long in average\n"
     ]
    }
   ],
   "source": [
    "T = rdd_tweets_clean.map(lambda x : len(x))\\\n",
    "                    .reduce(lambda a,b : a+b)\\\n",
    "                    /N_tweets  \n",
    "print(\"tweets are\", round(T),  \"characters long in average\")"
   ]
  },
  {
   "cell_type": "markdown",
   "metadata": {},
   "source": [
    "**<font color= green>compute the average number of words per tweet</font>**"
   ]
  },
  {
   "cell_type": "code",
   "execution_count": 24,
   "metadata": {},
   "outputs": [
    {
     "name": "stdout",
     "output_type": "stream",
     "text": [
      "tweets are 21 words long in average\n"
     ]
    }
   ],
   "source": [
    "W = rdd_tweets_clean.map(lambda x : len(x.split()))\\\n",
    "                    .reduce(lambda a,b : a+b)\\\n",
    "                    /N_tweets  \n",
    "print(\"tweets are\", round(W),  \"words long in average\")"
   ]
  },
  {
   "cell_type": "markdown",
   "metadata": {},
   "source": [
    "compute sentiment analysis"
   ]
  },
  {
   "cell_type": "code",
   "execution_count": 25,
   "metadata": {},
   "outputs": [
    {
     "data": {
      "text/plain": [
       "['', 'thanksfordelivering', '', 'ups!']"
      ]
     },
     "execution_count": 25,
     "metadata": {},
     "output_type": "execute_result"
    }
   ],
   "source": [
    "def split_with_multiple_separator(string_value):\n",
    "    return re.split('#|@|,| |\\[|\\]', string_value.strip())\n",
    "\n",
    "# usage example:\n",
    "\n",
    "split_with_multiple_separator(rdd_tweets_clean.take(4)[3])"
   ]
  },
  {
   "cell_type": "code",
   "execution_count": 26,
   "metadata": {},
   "outputs": [
    {
     "data": {
      "text/plain": [
       "['white',\n",
       " 'house',\n",
       " 'news',\n",
       " 'conference',\n",
       " 'today',\n",
       " 'at',\n",
       " '5:30',\n",
       " 'p.m.',\n",
       " 'eastern.',\n",
       " 'thank',\n",
       " 'you!',\n",
       " 'we',\n",
       " 'are',\n",
       " 'having',\n",
       " 'very',\n",
       " 'productive',\n",
       " 'calls',\n",
       " 'with',\n",
       " 'the',\n",
       " 'leaders']"
      ]
     },
     "execution_count": 26,
     "metadata": {},
     "output_type": "execute_result"
    }
   ],
   "source": [
    "rdd_tweets_words = rdd_tweets_clean.flatMap(split_with_multiple_separator).filter(lambda x: x is not '')\n",
    "rdd_tweets_words.take(20)"
   ]
  },
  {
   "cell_type": "code",
   "execution_count": 27,
   "metadata": {},
   "outputs": [],
   "source": [
    "# some punctuation is left as words, remove it\n",
    "rdd_punc_words = sc.parallelize(['\"','.'])\n",
    "rdd_tweets_words = rdd_tweets_words.subtract(rdd_punc_words)\n"
   ]
  },
  {
   "cell_type": "code",
   "execution_count": 28,
   "metadata": {},
   "outputs": [
    {
     "data": {
      "text/plain": [
       "[('at', 1), ('at', 1), ('at', 1), ('at', 1), ('at', 1)]"
      ]
     },
     "execution_count": 28,
     "metadata": {},
     "output_type": "execute_result"
    }
   ],
   "source": [
    "rdd_tweets_words_kv = rdd_tweets_words.map(lambda x : (x,1))\n",
    "\n",
    "rdd_tweets_words_kv.take(5)"
   ]
  },
  {
   "cell_type": "markdown",
   "metadata": {},
   "source": [
    "**<font color= green>display the most used words </font>**"
   ]
  },
  {
   "cell_type": "code",
   "execution_count": 29,
   "metadata": {},
   "outputs": [
    {
     "name": "stdout",
     "output_type": "stream",
     "text": [
      "The most used words including stop words are\n"
     ]
    },
    {
     "data": {
      "text/plain": [
       "[('the', 27096),\n",
       " ('to', 15186),\n",
       " ('and', 12386),\n",
       " ('of', 10780),\n",
       " ('a', 10177),\n",
       " ('is', 8711),\n",
       " ('in', 8711),\n",
       " ('for', 7191),\n",
       " ('i', 5878),\n",
       " ('on', 5657),\n",
       " ('will', 4896),\n",
       " ('you', 4572),\n",
       " ('that', 4545),\n",
       " ('be', 4483),\n",
       " ('are', 4361),\n",
       " ('great', 4222),\n",
       " ('with', 4132),\n",
       " ('realdonaldtrump', 4087),\n",
       " ('our', 3797),\n",
       " ('we', 3715),\n",
       " ('have', 3341),\n",
       " ('it', 3323),\n",
       " ('&amp;', 3296),\n",
       " ('this', 2963),\n",
       " ('at', 2954),\n",
       " ('they', 2841),\n",
       " ('was', 2747),\n",
       " ('trump', 2598),\n",
       " ('he', 2550),\n",
       " ('has', 2505),\n",
       " ('not', 2412),\n",
       " ('by', 2365),\n",
       " ('all', 2285),\n",
       " ('my', 2202),\n",
       " ('thank', 2194),\n",
       " ('president', 2154),\n",
       " ('so', 1985),\n",
       " ('-', 1952),\n",
       " ('just', 1933),\n",
       " ('very', 1873),\n",
       " ('as', 1817),\n",
       " ('people', 1766),\n",
       " ('no', 1759),\n",
       " ('who', 1697),\n",
       " ('from', 1689),\n",
       " ('but', 1469),\n",
       " ('his', 1449),\n",
       " ('new', 1439),\n",
       " ('do', 1411),\n",
       " ('your', 1394),\n",
       " ('about', 1364),\n",
       " ('get', 1318),\n",
       " ('their', 1302),\n",
       " ('what', 1280),\n",
       " ('out', 1262),\n",
       " ('would', 1260),\n",
       " ('now', 1259),\n",
       " ('more', 1258),\n",
       " ('democrats', 1247),\n",
       " ('an', 1233),\n",
       " ('america', 1232),\n",
       " ('been', 1203),\n",
       " ('me', 1197),\n",
       " ('big', 1184),\n",
       " ('if', 1170),\n",
       " ('make', 1163),\n",
       " ('or', 1095),\n",
       " ('many', 1074),\n",
       " ('never', 1064),\n",
       " ('up', 1060),\n",
       " ('than', 1046),\n",
       " ('should', 997),\n",
       " ('like', 988),\n",
       " ('news', 981),\n",
       " ('one', 965),\n",
       " ('time', 955),\n",
       " ('can', 955),\n",
       " ('country', 938),\n",
       " ('want', 915),\n",
       " ('only', 909),\n",
       " ('there', 906),\n",
       " ('american', 903),\n",
       " ('when', 899),\n",
       " ('fake', 899),\n",
       " ('going', 855),\n",
       " ('u.s.', 844),\n",
       " ('good', 836),\n",
       " ('much', 828),\n",
       " ('vote', 783),\n",
       " ('today', 765),\n",
       " ('hillary', 764),\n",
       " ('back', 757),\n",
       " ('am', 749),\n",
       " ('even', 745),\n",
       " ('donald', 739),\n",
       " ('media', 720),\n",
       " ('being', 718),\n",
       " ('were', 714),\n",
       " ('how', 705),\n",
       " ('had', 700)]"
      ]
     },
     "execution_count": 29,
     "metadata": {},
     "output_type": "execute_result"
    }
   ],
   "source": [
    "print(\"The most used words including stop words are\")\n",
    "rdd_tweets_words_kv.reduceByKey(lambda a,b: a+b)\\\n",
    "                        .sortBy(lambda tuple: tuple[1], ascending=False).take(100)\n"
   ]
  },
  {
   "cell_type": "markdown",
   "metadata": {},
   "source": [
    "**<font color= green>It's clear that the most used words are very common words that do not carry much meaning</font>**"
   ]
  },
  {
   "cell_type": "code",
   "execution_count": 30,
   "metadata": {},
   "outputs": [
    {
     "data": {
      "text/plain": [
       "['a', 'about', 'above', 'across']"
      ]
     },
     "execution_count": 30,
     "metadata": {},
     "output_type": "execute_result"
    }
   ],
   "source": [
    "rdd_stop_words = sc.textFile('stop-words.txt')\n",
    "rdd_stop_words.take(4)"
   ]
  },
  {
   "cell_type": "markdown",
   "metadata": {},
   "source": [
    "**<font color= green>check the proportion of stop words </font>**"
   ]
  },
  {
   "cell_type": "code",
   "execution_count": 31,
   "metadata": {},
   "outputs": [
    {
     "name": "stdout",
     "output_type": "stream",
     "text": [
      "there are  44 % of stop words\n"
     ]
    }
   ],
   "source": [
    "N_word_total     = rdd_tweets_clean.flatMap(split_with_multiple_separator).filter(lambda x: x is not '').count()\n",
    "rdd_tweets_words = rdd_tweets_clean.flatMap(split_with_multiple_separator).filter(lambda x: x is not '').subtract(rdd_stop_words).subtract(rdd_punc_words)\n",
    "SW_pc = 100-round(100*rdd_tweets_words.count()/N_word_total)\n",
    "print(\"there are \",SW_pc,\"% of stop words\")\n"
   ]
  },
  {
   "cell_type": "code",
   "execution_count": 32,
   "metadata": {},
   "outputs": [
    {
     "data": {
      "text/plain": [
       "[('america', 1),\n",
       " ('america', 1),\n",
       " ('america', 1),\n",
       " ('america', 1),\n",
       " ('america', 1)]"
      ]
     },
     "execution_count": 32,
     "metadata": {},
     "output_type": "execute_result"
    }
   ],
   "source": [
    "rdd_tweets_words_kv = rdd_tweets_words.map(lambda x : (x,1))\n",
    "\n",
    "rdd_tweets_words_kv.take(5)"
   ]
  },
  {
   "cell_type": "markdown",
   "metadata": {},
   "source": [
    "**<font color= green>display the most used words not including stop words</font>**"
   ]
  },
  {
   "cell_type": "code",
   "execution_count": 33,
   "metadata": {},
   "outputs": [
    {
     "name": "stdout",
     "output_type": "stream",
     "text": [
      "The most used words not including stop words are\n"
     ]
    },
    {
     "data": {
      "text/plain": [
       "[('great', 4222),\n",
       " ('realdonaldtrump', 4087),\n",
       " ('trump', 2598),\n",
       " ('thank', 2194),\n",
       " ('president', 2154),\n",
       " ('just', 1933),\n",
       " ('people', 1766),\n",
       " ('new', 1439),\n",
       " ('democrats', 1247),\n",
       " ('america', 1232),\n",
       " ('big', 1184),\n",
       " ('make', 1163),\n",
       " ('like', 988),\n",
       " ('news', 981),\n",
       " ('time', 955),\n",
       " ('country', 938),\n",
       " ('want', 915),\n",
       " ('american', 903),\n",
       " ('fake', 899),\n",
       " ('going', 855),\n",
       " ('u.s.', 844),\n",
       " ('good', 836),\n",
       " ('vote', 783),\n",
       " ('today', 765),\n",
       " ('hillary', 764),\n",
       " ('donald', 739),\n",
       " ('media', 720),\n",
       " ('united', 671),\n",
       " ('border', 670),\n",
       " ('said', 652),\n",
       " ('doing', 651),\n",
       " ('house', 645),\n",
       " ('realdonaldtrump:', 638),\n",
       " ('need', 630),\n",
       " ('foxnews', 598),\n",
       " ('did', 588),\n",
       " ('you!', 578),\n",
       " ('trump2016', 577),\n",
       " ('really', 573),\n",
       " ('years', 564),\n",
       " ('states', 556),\n",
       " ('state', 551),\n",
       " ('know', 548),\n",
       " ('job', 547),\n",
       " ('impeachment', 540),\n",
       " ('republican', 540),\n",
       " ('again!', 538),\n",
       " ('love', 538),\n",
       " ('bad', 532),\n",
       " ('best', 525),\n",
       " ('don’t', 525),\n",
       " ('jobs', 506),\n",
       " ('way', 500),\n",
       " ('day', 486),\n",
       " ('look', 486),\n",
       " ('china', 477),\n",
       " ('obama', 475),\n",
       " ('clinton', 472),\n",
       " ('got', 472),\n",
       " ('working', 467),\n",
       " ('dems', 466),\n",
       " ('win', 458),\n",
       " ('cnn', 455),\n",
       " ('strong', 452),\n",
       " ('run', 448),\n",
       " ('military', 439),\n",
       " ('trade', 438),\n",
       " ('deal', 436),\n",
       " ('national', 431),\n",
       " ('total', 422),\n",
       " ('work', 418),\n",
       " ('think', 412),\n",
       " ('crooked', 410),\n",
       " ('makeamericagreatagain', 406),\n",
       " ('right', 402),\n",
       " ('hard', 399),\n",
       " ('looking', 391),\n",
       " ('campaign', 387),\n",
       " ('foxandfriends', 387),\n",
       " ('republicans', 386),\n",
       " ('tonight', 381),\n",
       " ('better', 381),\n",
       " ('whitehouse:', 377),\n",
       " ('support', 376),\n",
       " ('democrat', 374),\n",
       " ('far', 373),\n",
       " (\"don't\", 371),\n",
       " ('forward', 368),\n",
       " ('say', 367),\n",
       " ('north', 364),\n",
       " ('white', 362),\n",
       " ('witch', 361),\n",
       " ('totally', 359),\n",
       " ('getting', 359),\n",
       " ('economy', 356),\n",
       " ('election', 355),\n",
       " ('long', 348),\n",
       " ('wall', 347),\n",
       " ('help', 345),\n",
       " ('tax', 344)]"
      ]
     },
     "execution_count": 33,
     "metadata": {},
     "output_type": "execute_result"
    }
   ],
   "source": [
    "print(\"The most used words not including stop words are\")\n",
    "rdd_words_cnt = rdd_tweets_words_kv.reduceByKey(lambda a,b: a+b)\\\n",
    "                        .sortBy(lambda tuple: tuple[1], ascending=False)\n",
    "rdd_words_cnt.take(100)"
   ]
  },
  {
   "cell_type": "markdown",
   "metadata": {},
   "source": [
    "now that we have the list of all words used, we will filter and keep only **<font color= green>the most positive words</font>**"
   ]
  },
  {
   "cell_type": "code",
   "execution_count": 34,
   "metadata": {},
   "outputs": [
    {
     "name": "stdout",
     "output_type": "stream",
     "text": [
      "the most used positive words are\n"
     ]
    },
    {
     "data": {
      "text/plain": [
       "[('great', 4222),\n",
       " ('trump', 2598),\n",
       " ('thank', 2194),\n",
       " ('like', 988),\n",
       " ('good', 836),\n",
       " ('love', 538),\n",
       " ('best', 525),\n",
       " ('win', 458),\n",
       " ('strong', 452),\n",
       " ('work', 418),\n",
       " ('right', 402),\n",
       " ('better', 381),\n",
       " ('support', 376),\n",
       " ('wonderful', 323),\n",
       " ('honor', 323),\n",
       " ('congratulations', 301),\n",
       " ('happy', 256),\n",
       " ('amazing', 254),\n",
       " ('important', 228),\n",
       " ('incredible', 224)]"
      ]
     },
     "execution_count": 34,
     "metadata": {},
     "output_type": "execute_result"
    }
   ],
   "source": [
    "positive_words_list = sc.textFile('positive-words.txt').collect()\n",
    "rdd_positive_words_cnt = rdd_words_cnt.filter(lambda x : x[0] in positive_words_list)\n",
    "print(\"the most used positive words are\")\n",
    "rdd_positive_words_cnt.take(20)"
   ]
  },
  {
   "cell_type": "code",
   "execution_count": 35,
   "metadata": {},
   "outputs": [
    {
     "ename": "NameError",
     "evalue": "name 'WordCloud' is not defined",
     "output_type": "error",
     "traceback": [
      "\u001b[0;31m---------------------------------------------------------------------------\u001b[0m",
      "\u001b[0;31mNameError\u001b[0m                                 Traceback (most recent call last)",
      "\u001b[0;32m<ipython-input-35-17bdd29f3b76>\u001b[0m in \u001b[0;36m<module>\u001b[0;34m\u001b[0m\n\u001b[1;32m      5\u001b[0m \u001b[0;34m\u001b[0m\u001b[0m\n\u001b[1;32m      6\u001b[0m \u001b[0;31m# Make the figure\u001b[0m\u001b[0;34m\u001b[0m\u001b[0;34m\u001b[0m\u001b[0;34m\u001b[0m\u001b[0m\n\u001b[0;32m----> 7\u001b[0;31m \u001b[0mwordcloud\u001b[0m \u001b[0;34m=\u001b[0m \u001b[0mWordCloud\u001b[0m\u001b[0;34m(\u001b[0m\u001b[0mbackground_color\u001b[0m\u001b[0;34m=\u001b[0m\u001b[0;34m\"white\"\u001b[0m\u001b[0;34m,\u001b[0m \u001b[0mcolormap\u001b[0m\u001b[0;34m=\u001b[0m\u001b[0;34m\"Greens\"\u001b[0m\u001b[0;34m,\u001b[0m\u001b[0mrelative_scaling\u001b[0m\u001b[0;34m=\u001b[0m\u001b[0;36m1\u001b[0m\u001b[0;34m,\u001b[0m\u001b[0mprefer_horizontal\u001b[0m\u001b[0;34m=\u001b[0m\u001b[0;36m0.9\u001b[0m\u001b[0;34m)\u001b[0m\u001b[0;34m.\u001b[0m\u001b[0mgenerate_from_frequencies\u001b[0m\u001b[0;34m(\u001b[0m\u001b[0mdict\u001b[0m\u001b[0;34m(\u001b[0m\u001b[0mrdd_positive_words_cnt\u001b[0m\u001b[0;34m.\u001b[0m\u001b[0mtake\u001b[0m\u001b[0;34m(\u001b[0m\u001b[0;36m20\u001b[0m\u001b[0;34m)\u001b[0m\u001b[0;34m)\u001b[0m\u001b[0;34m)\u001b[0m\u001b[0;34m\u001b[0m\u001b[0;34m\u001b[0m\u001b[0m\n\u001b[0m\u001b[1;32m      8\u001b[0m \u001b[0;31m#plt.figure()\u001b[0m\u001b[0;34m\u001b[0m\u001b[0;34m\u001b[0m\u001b[0;34m\u001b[0m\u001b[0m\n\u001b[1;32m      9\u001b[0m \u001b[0mplt\u001b[0m\u001b[0;34m.\u001b[0m\u001b[0mimshow\u001b[0m\u001b[0;34m(\u001b[0m\u001b[0mwordcloud\u001b[0m\u001b[0;34m,\u001b[0m \u001b[0minterpolation\u001b[0m\u001b[0;34m=\u001b[0m\u001b[0;34m\"bilinear\"\u001b[0m\u001b[0;34m)\u001b[0m\u001b[0;34m\u001b[0m\u001b[0;34m\u001b[0m\u001b[0m\n",
      "\u001b[0;31mNameError\u001b[0m: name 'WordCloud' is not defined"
     ]
    },
    {
     "data": {
      "image/png": "[encoded data removed]",
      "text/plain": [
       "<Figure size 864x864 with 1 Axes>"
      ]
     },
     "metadata": {
      "needs_background": "light"
     },
     "output_type": "display_data"
    }
   ],
   "source": [
    "fig, ax = plt.subplots(1, 1, figsize=(12, 12))\n",
    " \n",
    "# Load the image (http://python-graph-gallery.com/wp-content/uploads/wave.jpg)\n",
    "us_mask = np.array(Image.open( \"US3.png\"))\n",
    " \n",
    "# Make the figure\n",
    "wordcloud = WordCloud(background_color=\"white\", colormap=\"Greens\",relative_scaling=1,prefer_horizontal=0.9).generate_from_frequencies(dict(rdd_positive_words_cnt.take(20)))\n",
    "#plt.figure()\n",
    "plt.imshow(wordcloud, interpolation=\"bilinear\")\n",
    "plt.axis(\"off\")\n",
    "plt.margins(x=0, y=0)\n",
    "plt.title('positive wordcloud',fontsize=20, fontweight= 'bold',va='center' )\n",
    "plt.show()"
   ]
  },
  {
   "cell_type": "markdown",
   "metadata": {},
   "source": [
    "**<font color= green> The positive words are quite general and do not seem to focus on specific topics</font>**"
   ]
  },
  {
   "cell_type": "markdown",
   "metadata": {},
   "source": [
    "**<font color= green>the most negative words</font>**"
   ]
  },
  {
   "cell_type": "code",
   "execution_count": null,
   "metadata": {},
   "outputs": [],
   "source": [
    "negative_words_list = sc.textFile('negative-words.txt').collect()\n",
    "rdd_negative_words_cnt = rdd_words_cnt.filter(lambda x : x[0] in negative_words_list)\n",
    "print(\"the most used negative words are\")\n",
    "rdd_negative_words_cnt.take(20)"
   ]
  },
  {
   "cell_type": "code",
   "execution_count": 36,
   "metadata": {},
   "outputs": [
    {
     "ename": "NameError",
     "evalue": "name 'WordCloud' is not defined",
     "output_type": "error",
     "traceback": [
      "\u001b[0;31m---------------------------------------------------------------------------\u001b[0m",
      "\u001b[0;31mNameError\u001b[0m                                 Traceback (most recent call last)",
      "\u001b[0;32m<ipython-input-36-78bfcfaa818b>\u001b[0m in \u001b[0;36m<module>\u001b[0;34m\u001b[0m\n\u001b[1;32m      5\u001b[0m \u001b[0;34m\u001b[0m\u001b[0m\n\u001b[1;32m      6\u001b[0m \u001b[0;31m# Make the figure\u001b[0m\u001b[0;34m\u001b[0m\u001b[0;34m\u001b[0m\u001b[0;34m\u001b[0m\u001b[0m\n\u001b[0;32m----> 7\u001b[0;31m \u001b[0mwordcloud\u001b[0m \u001b[0;34m=\u001b[0m \u001b[0mWordCloud\u001b[0m\u001b[0;34m(\u001b[0m\u001b[0mbackground_color\u001b[0m\u001b[0;34m=\u001b[0m\u001b[0;34m\"white\"\u001b[0m\u001b[0;34m,\u001b[0m \u001b[0mcolormap\u001b[0m\u001b[0;34m=\u001b[0m\u001b[0;34m\"Reds\"\u001b[0m\u001b[0;34m,\u001b[0m\u001b[0mrelative_scaling\u001b[0m\u001b[0;34m=\u001b[0m\u001b[0;36m1\u001b[0m\u001b[0;34m,\u001b[0m\u001b[0mprefer_horizontal\u001b[0m\u001b[0;34m=\u001b[0m\u001b[0;36m0.9\u001b[0m\u001b[0;34m)\u001b[0m\u001b[0;34m.\u001b[0m\u001b[0mgenerate_from_frequencies\u001b[0m\u001b[0;34m(\u001b[0m\u001b[0mdict\u001b[0m\u001b[0;34m(\u001b[0m\u001b[0mrdd_negative_words_cnt\u001b[0m\u001b[0;34m.\u001b[0m\u001b[0mtake\u001b[0m\u001b[0;34m(\u001b[0m\u001b[0;36m20\u001b[0m\u001b[0;34m)\u001b[0m\u001b[0;34m)\u001b[0m\u001b[0;34m)\u001b[0m\u001b[0;34m\u001b[0m\u001b[0;34m\u001b[0m\u001b[0m\n\u001b[0m\u001b[1;32m      8\u001b[0m \u001b[0;31m#plt.figure()\u001b[0m\u001b[0;34m\u001b[0m\u001b[0;34m\u001b[0m\u001b[0;34m\u001b[0m\u001b[0m\n\u001b[1;32m      9\u001b[0m \u001b[0mplt\u001b[0m\u001b[0;34m.\u001b[0m\u001b[0mimshow\u001b[0m\u001b[0;34m(\u001b[0m\u001b[0mwordcloud\u001b[0m\u001b[0;34m,\u001b[0m \u001b[0minterpolation\u001b[0m\u001b[0;34m=\u001b[0m\u001b[0;34m\"bilinear\"\u001b[0m\u001b[0;34m)\u001b[0m\u001b[0;34m\u001b[0m\u001b[0;34m\u001b[0m\u001b[0m\n",
      "\u001b[0;31mNameError\u001b[0m: name 'WordCloud' is not defined"
     ]
    },
    {
     "data": {
      "image/png": "[encoded data removed]",
      "text/plain": [
       "<Figure size 864x864 with 1 Axes>"
      ]
     },
     "metadata": {
      "needs_background": "light"
     },
     "output_type": "display_data"
    }
   ],
   "source": [
    "fig, ax = plt.subplots(1, 1, figsize=(12, 12))\n",
    " \n",
    "# Load the image (http://python-graph-gallery.com/wp-content/uploads/wave.jpg)\n",
    "us_mask = np.array(Image.open( \"US3.png\"))\n",
    " \n",
    "# Make the figure\n",
    "wordcloud = WordCloud(background_color=\"white\", colormap=\"Reds\",relative_scaling=1,prefer_horizontal=0.9).generate_from_frequencies(dict(rdd_negative_words_cnt.take(20)))\n",
    "#plt.figure()\n",
    "plt.imshow(wordcloud, interpolation=\"bilinear\")\n",
    "plt.axis(\"off\")\n",
    "plt.margins(x=0, y=0)\n",
    "plt.title('negative wordcloud',fontsize=20, fontweight= 'bold',va='center' )\n",
    "plt.show()"
   ]
  },
  {
   "cell_type": "markdown",
   "metadata": {},
   "source": [
    "**<font color= green> The negative narrative is largely for US national topis e.g. against media or impeachment</font>**"
   ]
  },
  {
   "cell_type": "markdown",
   "metadata": {},
   "source": [
    "# language detection"
   ]
  },
  {
   "cell_type": "markdown",
   "metadata": {},
   "source": [
    "here we want to detect the different languages used in the tweets"
   ]
  },
  {
   "cell_type": "code",
   "execution_count": 37,
   "metadata": {},
   "outputs": [
    {
     "ename": "NameError",
     "evalue": "name 'DetectorFactory' is not defined",
     "output_type": "error",
     "traceback": [
      "\u001b[0;31m---------------------------------------------------------------------------\u001b[0m",
      "\u001b[0;31mNameError\u001b[0m                                 Traceback (most recent call last)",
      "\u001b[0;32m<ipython-input-37-c3b9b69a29df>\u001b[0m in \u001b[0;36m<module>\u001b[0;34m\u001b[0m\n\u001b[0;32m----> 1\u001b[0;31m \u001b[0mDetectorFactory\u001b[0m\u001b[0;34m.\u001b[0m\u001b[0mseed\u001b[0m \u001b[0;34m=\u001b[0m \u001b[0;36m0\u001b[0m\u001b[0;34m\u001b[0m\u001b[0;34m\u001b[0m\u001b[0m\n\u001b[0m\u001b[1;32m      2\u001b[0m \u001b[0;32mdef\u001b[0m \u001b[0mdetect_lang\u001b[0m\u001b[0;34m(\u001b[0m\u001b[0mstr\u001b[0m\u001b[0;34m)\u001b[0m\u001b[0;34m:\u001b[0m\u001b[0;34m\u001b[0m\u001b[0;34m\u001b[0m\u001b[0m\n\u001b[1;32m      3\u001b[0m     \u001b[0;32mtry\u001b[0m\u001b[0;34m:\u001b[0m\u001b[0;34m\u001b[0m\u001b[0;34m\u001b[0m\u001b[0m\n\u001b[1;32m      4\u001b[0m         \u001b[0;32mreturn\u001b[0m \u001b[0mdetect_langs\u001b[0m\u001b[0;34m(\u001b[0m\u001b[0mstr\u001b[0m\u001b[0;34m)\u001b[0m\u001b[0;34m\u001b[0m\u001b[0;34m\u001b[0m\u001b[0m\n\u001b[1;32m      5\u001b[0m     \u001b[0;32mexcept\u001b[0m\u001b[0;34m:\u001b[0m\u001b[0;34m\u001b[0m\u001b[0;34m\u001b[0m\u001b[0m\n",
      "\u001b[0;31mNameError\u001b[0m: name 'DetectorFactory' is not defined"
     ]
    }
   ],
   "source": [
    "DetectorFactory.seed = 0\n",
    "def detect_lang(str):\n",
    "    try:\n",
    "        return detect_langs(str)\n",
    "    except:\n",
    "        return detect_langs(\" this is a dummy sentence to fake in case function is failing\")\n",
    "\n",
    "# remove hastags, @ and any messages below 30 characters\n",
    "rdd_lang_prob = rdd_tweets_clean.map(lambda x : re.sub(r\"#\\S+\", \"\", x))\\\n",
    "                           .map(lambda x : re.sub(r\"@\\S+\", \"\", x))\\\n",
    "                           .filter(lambda x : len(x) > 30)\\\n",
    "                           .map(detect_lang)"
   ]
  },
  {
   "cell_type": "code",
   "execution_count": 38,
   "metadata": {},
   "outputs": [
    {
     "ename": "NameError",
     "evalue": "name 'rdd_lang_prob' is not defined",
     "output_type": "error",
     "traceback": [
      "\u001b[0;31m---------------------------------------------------------------------------\u001b[0m",
      "\u001b[0;31mNameError\u001b[0m                                 Traceback (most recent call last)",
      "\u001b[0;32m<ipython-input-38-3f0de7eba41f>\u001b[0m in \u001b[0;36m<module>\u001b[0;34m\u001b[0m\n\u001b[1;32m      1\u001b[0m \u001b[0;31m# keep only languages detected with over 90% likelihood, count by language\u001b[0m\u001b[0;34m\u001b[0m\u001b[0;34m\u001b[0m\u001b[0;34m\u001b[0m\u001b[0m\n\u001b[0;32m----> 2\u001b[0;31m \u001b[0mrdd_lang\u001b[0m \u001b[0;34m=\u001b[0m \u001b[0mrdd_lang_prob\u001b[0m\u001b[0;34m.\u001b[0m\u001b[0mmap\u001b[0m\u001b[0;34m(\u001b[0m\u001b[0;32mlambda\u001b[0m \u001b[0mx\u001b[0m \u001b[0;34m:\u001b[0m \u001b[0mx\u001b[0m\u001b[0;34m[\u001b[0m\u001b[0;36m0\u001b[0m\u001b[0;34m]\u001b[0m\u001b[0;34m)\u001b[0m\u001b[0;31m\\\u001b[0m\u001b[0;34m\u001b[0m\u001b[0;34m\u001b[0m\u001b[0m\n\u001b[0m\u001b[1;32m      3\u001b[0m                         \u001b[0;34m.\u001b[0m\u001b[0mfilter\u001b[0m\u001b[0;34m(\u001b[0m\u001b[0;32mlambda\u001b[0m \u001b[0mx\u001b[0m \u001b[0;34m:\u001b[0m \u001b[0mx\u001b[0m\u001b[0;34m.\u001b[0m\u001b[0mprob\u001b[0m \u001b[0;34m>\u001b[0m \u001b[0;36m0.9\u001b[0m\u001b[0;34m)\u001b[0m\u001b[0;31m\\\u001b[0m\u001b[0;34m\u001b[0m\u001b[0;34m\u001b[0m\u001b[0m\n\u001b[1;32m      4\u001b[0m                         \u001b[0;34m.\u001b[0m\u001b[0mmap\u001b[0m\u001b[0;34m(\u001b[0m\u001b[0;32mlambda\u001b[0m \u001b[0mx\u001b[0m \u001b[0;34m:\u001b[0m \u001b[0mx\u001b[0m\u001b[0;34m.\u001b[0m\u001b[0mlang\u001b[0m\u001b[0;34m)\u001b[0m\u001b[0;31m\\\u001b[0m\u001b[0;34m\u001b[0m\u001b[0;34m\u001b[0m\u001b[0m\n\u001b[1;32m      5\u001b[0m                         \u001b[0;34m.\u001b[0m\u001b[0mmap\u001b[0m\u001b[0;34m(\u001b[0m\u001b[0;32mlambda\u001b[0m \u001b[0mx\u001b[0m \u001b[0;34m:\u001b[0m \u001b[0;34m(\u001b[0m\u001b[0mx\u001b[0m\u001b[0;34m,\u001b[0m\u001b[0;36m1\u001b[0m\u001b[0;34m)\u001b[0m\u001b[0;34m)\u001b[0m\u001b[0;31m\\\u001b[0m\u001b[0;34m\u001b[0m\u001b[0;34m\u001b[0m\u001b[0m\n",
      "\u001b[0;31mNameError\u001b[0m: name 'rdd_lang_prob' is not defined"
     ]
    }
   ],
   "source": [
    "# keep only languages detected with over 90% likelihood, count by language\n",
    "rdd_lang = rdd_lang_prob.map(lambda x : x[0])\\\n",
    "                        .filter(lambda x : x.prob > 0.9)\\\n",
    "                        .map(lambda x : x.lang)\\\n",
    "                        .map(lambda x : (x,1))\\\n",
    "                        .reduceByKey(lambda a,b: a+b)\n"
   ]
  },
  {
   "cell_type": "code",
   "execution_count": 39,
   "metadata": {},
   "outputs": [
    {
     "ename": "NameError",
     "evalue": "name 'rdd_lang' is not defined",
     "output_type": "error",
     "traceback": [
      "\u001b[0;31m---------------------------------------------------------------------------\u001b[0m",
      "\u001b[0;31mNameError\u001b[0m                                 Traceback (most recent call last)",
      "\u001b[0;32m<ipython-input-39-f8dcae1dddf8>\u001b[0m in \u001b[0;36m<module>\u001b[0;34m\u001b[0m\n\u001b[1;32m      1\u001b[0m \u001b[0;31m# put list of languages used in a list\u001b[0m\u001b[0;34m\u001b[0m\u001b[0;34m\u001b[0m\u001b[0;34m\u001b[0m\u001b[0m\n\u001b[0;32m----> 2\u001b[0;31m \u001b[0mlang_used_list\u001b[0m \u001b[0;34m=\u001b[0m \u001b[0mrdd_lang\u001b[0m\u001b[0;34m.\u001b[0m\u001b[0mcollect\u001b[0m\u001b[0;34m(\u001b[0m\u001b[0;34m)\u001b[0m\u001b[0;34m\u001b[0m\u001b[0;34m\u001b[0m\u001b[0m\n\u001b[0m",
      "\u001b[0;31mNameError\u001b[0m: name 'rdd_lang' is not defined"
     ]
    }
   ],
   "source": [
    "# put list of languages used in a list\n",
    "lang_used_list = rdd_lang.collect()"
   ]
  },
  {
   "cell_type": "code",
   "execution_count": 40,
   "metadata": {},
   "outputs": [],
   "source": [
    "# read the language corresponding to each code\n",
    "lang_code = pd.read_csv('language_code.csv')\n",
    "\n",
    "# put it in  a dictionary\n",
    "lang_dict = dict(lang_code.to_dict(orient='split')['data'])"
   ]
  },
  {
   "cell_type": "code",
   "execution_count": 41,
   "metadata": {},
   "outputs": [
    {
     "name": "stdout",
     "output_type": "stream",
     "text": [
      " Here is the list of languages used in tweets\n"
     ]
    },
    {
     "ename": "NameError",
     "evalue": "name 'lang_used_list' is not defined",
     "output_type": "error",
     "traceback": [
      "\u001b[0;31m---------------------------------------------------------------------------\u001b[0m",
      "\u001b[0;31mNameError\u001b[0m                                 Traceback (most recent call last)",
      "\u001b[0;32m<ipython-input-41-439389039f16>\u001b[0m in \u001b[0;36m<module>\u001b[0;34m\u001b[0m\n\u001b[1;32m      1\u001b[0m \u001b[0;31m# find and display the languages used\u001b[0m\u001b[0;34m\u001b[0m\u001b[0;34m\u001b[0m\u001b[0;34m\u001b[0m\u001b[0m\n\u001b[1;32m      2\u001b[0m \u001b[0mprint\u001b[0m\u001b[0;34m(\u001b[0m\u001b[0;34m\" Here is the list of languages used in tweets\"\u001b[0m\u001b[0;34m)\u001b[0m\u001b[0;34m\u001b[0m\u001b[0;34m\u001b[0m\u001b[0m\n\u001b[0;32m----> 3\u001b[0;31m \u001b[0;32mfor\u001b[0m \u001b[0mtup\u001b[0m \u001b[0;32min\u001b[0m \u001b[0mlang_used_list\u001b[0m\u001b[0;34m:\u001b[0m\u001b[0;34m\u001b[0m\u001b[0;34m\u001b[0m\u001b[0m\n\u001b[0m\u001b[1;32m      4\u001b[0m     \u001b[0mlang\u001b[0m       \u001b[0;34m=\u001b[0m \u001b[0mtup\u001b[0m\u001b[0;34m[\u001b[0m\u001b[0;36m0\u001b[0m\u001b[0;34m]\u001b[0m\u001b[0;34m\u001b[0m\u001b[0;34m\u001b[0m\u001b[0m\n\u001b[1;32m      5\u001b[0m     \u001b[0mlang_count\u001b[0m \u001b[0;34m=\u001b[0m \u001b[0mtup\u001b[0m\u001b[0;34m[\u001b[0m\u001b[0;36m1\u001b[0m\u001b[0;34m]\u001b[0m\u001b[0;34m\u001b[0m\u001b[0;34m\u001b[0m\u001b[0m\n",
      "\u001b[0;31mNameError\u001b[0m: name 'lang_used_list' is not defined"
     ]
    }
   ],
   "source": [
    "# find and display the languages used\n",
    "print(\" Here is the list of languages used in tweets\")\n",
    "for tup in lang_used_list:\n",
    "    lang       = tup[0]\n",
    "    lang_count = tup[1]\n",
    "    try:\n",
    "        print(\"    - \", lang_count, \" tweets in \", lang_dict[lang])\n",
    "    except:\n",
    "        print(\"    - \", lang_count, \" tweets in unknown language(\", lang,\")\")\n"
   ]
  },
  {
   "cell_type": "markdown",
   "metadata": {},
   "source": [
    "**<font color= green>Obviously the vast majority of tweets are written in english <br>\n",
    "But it's still interesting to see that others languages are used <br>\n",
    "It is either to address a large US community like spanish like latinos, pass a message to some populations e.g. persan for iranians or visiting a country\n",
    "It is also to be noted that language is not perfect, it could be improved by doing further text processing</font>**\n",
    "\n"
   ]
  },
  {
   "cell_type": "code",
   "execution_count": null,
   "metadata": {},
   "outputs": [],
   "source": []
  }
 ],
 "metadata": {
  "kernelspec": {
   "display_name": "Python 3",
   "language": "python",
   "name": "python3"
  },
  "language_info": {
   "codemirror_mode": {
    "name": "ipython",
    "version": 3
   },
   "file_extension": ".py",
   "mimetype": "text/x-python",
   "name": "python",
   "nbconvert_exporter": "python",
   "pygments_lexer": "ipython3",
   "version": "3.7.6"
  }
 },
 "nbformat": 4,
 "nbformat_minor": 4
}
